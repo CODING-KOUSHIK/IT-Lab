{
 "cells": [
  {
   "cell_type": "markdown",
   "id": "bd0430c0",
   "metadata": {},
   "source": [
    "# 1. What happens when the following code is executed? Will it give any error? Explain the reasons. x = 2 if x == 2: print x else: print y"
   ]
  },
  {
   "cell_type": "code",
   "execution_count": 2,
   "id": "cd93f48a",
   "metadata": {},
   "outputs": [
    {
     "name": "stdout",
     "output_type": "stream",
     "text": [
      "2\n"
     ]
    }
   ],
   "source": [
    "x=2\n",
    "if x==2:\n",
    "    print(x)\n",
    "    \n",
    "else:\n",
    "    print(y)"
   ]
  },
  {
   "cell_type": "markdown",
   "id": "31f4de70",
   "metadata": {},
   "source": [
    "Here we declare a variable x a value 2 assign in this variable x. since condition of if satissfy, body of the if condition run and ther is only print function. That's why, we get value of the x which is 2. since if condition satisfy, else condition is skip"
   ]
  },
  {
   "cell_type": "markdown",
   "id": "e841cab6",
   "metadata": {},
   "source": [
    "# 2. What happens the following code is executed? Will it give any error? Explain the reasons. x = 2 if x == 2: print x else: x +"
   ]
  },
  {
   "cell_type": "code",
   "execution_count": 38,
   "id": "dc959998",
   "metadata": {},
   "outputs": [
    {
     "name": "stdout",
     "output_type": "stream",
     "text": [
      "3\n"
     ]
    }
   ],
   "source": [
    "x=2\n",
    "if x==3:\n",
    "    print(x)\n",
    "    \n",
    "else:\n",
    "    print(x+1)"
   ]
  },
  {
   "cell_type": "markdown",
   "id": "741fefd3",
   "metadata": {},
   "source": [
    "we got a syntax error because in python at first any code conver into binary file. So, In python code if we use operator, we have to give values after and before of the operator. Here in the code break the rules, thats why we got a syntax error"
   ]
  },
  {
   "cell_type": "markdown",
   "id": "b8270452",
   "metadata": {},
   "source": [
    "# 3. Write an iterator class reverse_iter, that takes a list and iterates it from the reverse direction. ::"
   ]
  },
  {
   "cell_type": "code",
   "execution_count": 9,
   "id": "1eb1746b",
   "metadata": {},
   "outputs": [
    {
     "data": {
      "text/plain": [
       "['K', 'I', 'H', 'S', 'U', 'O', 'K']"
      ]
     },
     "execution_count": 9,
     "metadata": {},
     "output_type": "execute_result"
    }
   ],
   "source": [
    "list=[\"K\", \"O\", \"U\", \"S\", \"H\", \"I\", \"K\"]\n",
    "list[::-1]"
   ]
  },
  {
   "cell_type": "code",
   "execution_count": null,
   "id": "11e42d12",
   "metadata": {},
   "outputs": [],
   "source": []
  },
  {
   "cell_type": "markdown",
   "id": "477c4fb5",
   "metadata": {},
   "source": [
    "# 4.Write a program that takes one or more filenames as arguments and prints all the lines which are longer than 40 characters."
   ]
  },
  {
   "cell_type": "code",
   "execution_count": null,
   "id": "56ae9aa8",
   "metadata": {},
   "outputs": [],
   "source": []
  },
  {
   "cell_type": "markdown",
   "id": "a7810ded",
   "metadata": {},
   "source": [
    "# 5. What will be the output of the following program. a, b = 2, 3 c, b = a, c + 1 print a, b, c"
   ]
  },
  {
   "cell_type": "code",
   "execution_count": 12,
   "id": "eaadf908",
   "metadata": {},
   "outputs": [
    {
     "name": "stdout",
     "output_type": "stream",
     "text": [
      "2 3 2\n"
     ]
    }
   ],
   "source": [
    "a, b = 2, 3\n",
    "c = a\n",
    "b=c + 1\n",
    "print (a, b, c)"
   ]
  },
  {
   "cell_type": "markdown",
   "id": "f9e5f69e",
   "metadata": {},
   "source": [
    "# 6. How many multiplications are performed when each of the following lines of code is executed? print square(5) print square(2*5)"
   ]
  },
  {
   "cell_type": "code",
   "execution_count": 21,
   "id": "5220c28c",
   "metadata": {},
   "outputs": [],
   "source": [
    "def square(x):\n",
    "    return(x*x)"
   ]
  },
  {
   "cell_type": "code",
   "execution_count": 22,
   "id": "eed7bcde",
   "metadata": {},
   "outputs": [
    {
     "name": "stdout",
     "output_type": "stream",
     "text": [
      "25\n",
      "100\n"
     ]
    }
   ],
   "source": [
    "print(square(5))\n",
    "print (square(2*5))"
   ]
  },
  {
   "cell_type": "markdown",
   "id": "993bde02",
   "metadata": {},
   "source": [
    "# 7. Write a function count_digits to find number of digits in the given number."
   ]
  },
  {
   "cell_type": "code",
   "execution_count": 21,
   "id": "82c28e17",
   "metadata": {},
   "outputs": [],
   "source": [
    "def count_digits(num):\n",
    "    return len(str(num))\n",
    "        "
   ]
  },
  {
   "cell_type": "code",
   "execution_count": 22,
   "id": "b606acee",
   "metadata": {},
   "outputs": [
    {
     "data": {
      "text/plain": [
       "6"
      ]
     },
     "execution_count": 22,
     "metadata": {},
     "output_type": "execute_result"
    }
   ],
   "source": [
    "count_digits(568912)"
   ]
  },
  {
   "cell_type": "markdown",
   "id": "59061ca1",
   "metadata": {},
   "source": [
    "# 8. Write a function istrcmp to compare two strings, ignoring the case"
   ]
  },
  {
   "cell_type": "code",
   "execution_count": 53,
   "id": "c6457423",
   "metadata": {},
   "outputs": [],
   "source": [
    "def count_string(x):\n",
    "    \n",
    "    list1=['a',\n",
    " 'b',\n",
    " 'c',\n",
    " 'd',\n",
    " 'e',\n",
    " 'f',\n",
    " 'g',\n",
    " 'h',\n",
    " 'i',\n",
    " 'j',\n",
    " 'k',\n",
    " 'l',\n",
    " 'm',\n",
    " 'n',\n",
    " 'o',\n",
    " 'p',\n",
    " 'q',\n",
    " 'r',\n",
    " 's',\n",
    " 't',\n",
    " 'u',\n",
    " 'v',\n",
    " 'w',\n",
    " 'x',\n",
    " 'y',\n",
    " 'z']\n",
    "            \n",
    "    dict1={}\n",
    "\n",
    "    \n",
    "    for i in list1:\n",
    "        m=0\n",
    "        for j in x:\n",
    "            if i==j:\n",
    "                m=m+1\n",
    "        dict1[i]=m\n",
    "        \n",
    "    return dict1"
   ]
  },
  {
   "cell_type": "code",
   "execution_count": null,
   "id": "49de72a1",
   "metadata": {},
   "outputs": [],
   "source": []
  },
  {
   "cell_type": "code",
   "execution_count": 54,
   "id": "6a664d5b",
   "metadata": {},
   "outputs": [
    {
     "name": "stdout",
     "output_type": "stream",
     "text": [
      "Please input a string: dfajkfjkdszhgjkhsajkhfgjkhmfds\n",
      "Please input a another string: dsajkfvjkdwsalkejgfdszjnfgjk\n",
      "{'a': 2, 'b': 0, 'c': 0, 'd': 3, 'e': 0, 'f': 4, 'g': 2, 'h': 4, 'i': 0, 'j': 5, 'k': 5, 'l': 0, 'm': 1, 'n': 0, 'o': 0, 'p': 0, 'q': 0, 'r': 0, 's': 3, 't': 0, 'u': 0, 'v': 0, 'w': 0, 'x': 0, 'y': 0, 'z': 1}\n",
      "{'a': 2, 'b': 0, 'c': 0, 'd': 3, 'e': 1, 'f': 3, 'g': 2, 'h': 0, 'i': 0, 'j': 5, 'k': 4, 'l': 1, 'm': 0, 'n': 1, 'o': 0, 'p': 0, 'q': 0, 'r': 0, 's': 3, 't': 0, 'u': 0, 'v': 1, 'w': 1, 'x': 0, 'y': 0, 'z': 1}\n"
     ]
    }
   ],
   "source": [
    "x1=input('Please input a string: ')\n",
    "x2=input(\"Please input a another string: \")\n",
    "p1=count_string(x1)\n",
    "p2=count_string(x2)\n",
    "print(p1)\n",
    "print(p2)"
   ]
  },
  {
   "cell_type": "code",
   "execution_count": null,
   "id": "d3891d43",
   "metadata": {},
   "outputs": [],
   "source": []
  },
  {
   "cell_type": "markdown",
   "id": "73d2c1aa",
   "metadata": {},
   "source": [
    "# 9. What will be output of the following program? print 2 < 3 and 3 > 1 print 2 < 3 or 3 > 1 print 2 < 3 or not 3 > 1 print 2 < 3 and not 3 > 1"
   ]
  },
  {
   "cell_type": "code",
   "execution_count": null,
   "id": "0319752b",
   "metadata": {},
   "outputs": [],
   "source": []
  },
  {
   "cell_type": "code",
   "execution_count": null,
   "id": "723f72fa",
   "metadata": {},
   "outputs": [],
   "source": []
  },
  {
   "cell_type": "code",
   "execution_count": null,
   "id": "41b9f9f4",
   "metadata": {},
   "outputs": [],
   "source": []
  },
  {
   "cell_type": "code",
   "execution_count": null,
   "id": "c979f82f",
   "metadata": {},
   "outputs": [],
   "source": []
  },
  {
   "cell_type": "code",
   "execution_count": null,
   "id": "0018ffad",
   "metadata": {},
   "outputs": [],
   "source": []
  },
  {
   "cell_type": "markdown",
   "id": "81c09a7e",
   "metadata": {},
   "source": [
    "# 10.What will be output of the following program? x = 4 y = 5 p = x < y or x < z print p"
   ]
  },
  {
   "cell_type": "code",
   "execution_count": 24,
   "id": "686ddb3f",
   "metadata": {},
   "outputs": [
    {
     "name": "stdout",
     "output_type": "stream",
     "text": [
      "True\n"
     ]
    }
   ],
   "source": [
    "x = 4\n",
    "y = 5\n",
    "p = x < y or x < z\n",
    "print(p)"
   ]
  },
  {
   "cell_type": "code",
   "execution_count": null,
   "id": "a389a869",
   "metadata": {},
   "outputs": [],
   "source": []
  },
  {
   "cell_type": "markdown",
   "id": "f82e2ac6",
   "metadata": {},
   "source": [
    "# 11. What will be output of the following program? True, False = False, True print True, False print 2 < 3"
   ]
  },
  {
   "cell_type": "code",
   "execution_count": 3,
   "id": "c7dc6b95",
   "metadata": {},
   "outputs": [
    {
     "data": {
      "text/plain": [
       "False"
      ]
     },
     "execution_count": 3,
     "metadata": {},
     "output_type": "execute_result"
    }
   ],
   "source": [
    "True == False\n"
   ]
  },
  {
   "cell_type": "code",
   "execution_count": null,
   "id": "929ca329",
   "metadata": {},
   "outputs": [],
   "source": []
  },
  {
   "cell_type": "code",
   "execution_count": null,
   "id": "0953fd2e",
   "metadata": {},
   "outputs": [],
   "source": []
  },
  {
   "cell_type": "markdown",
   "id": "1a101bd7",
   "metadata": {},
   "source": [
    "# 12.Write a program add.py that takes 2 numbers as command line arguments and prints its sum."
   ]
  },
  {
   "cell_type": "code",
   "execution_count": 12,
   "id": "4a1997c4",
   "metadata": {},
   "outputs": [
    {
     "name": "stdout",
     "output_type": "stream",
     "text": [
      "Enter Two numbers: Separate by space key 125 125\n",
      "The sum of 125 and 125 is 250\n"
     ]
    }
   ],
   "source": [
    "num1, num2 =input(\"Enter Two numbers: Separate by space key \").split()\n",
    "\n",
    "print(f'The sum of {num1} and {num2} is {int(num1)+int(num2)}' )"
   ]
  },
  {
   "cell_type": "markdown",
   "id": "7aecd0a1",
   "metadata": {},
   "source": [
    "# 13. What will be the output of the following program? x = [0, 1, [2]] x[2][0] = 3 print x x[2].append(4) print x x[2] = 2 print x"
   ]
  },
  {
   "cell_type": "code",
   "execution_count": 29,
   "id": "f683ab87",
   "metadata": {},
   "outputs": [
    {
     "name": "stdout",
     "output_type": "stream",
     "text": [
      "[0, 1, [3, 4]] None\n",
      "[0, 1, [3, 4]] False\n",
      "[0, 1, [3, 4]]\n"
     ]
    }
   ],
   "source": [
    "x = [0, 1, [2]]\n",
    "x[2][0] = 3\n",
    "print (x, x[2].append(4))\n",
    "print (x, x[2] == 2)\n",
    "print(x)"
   ]
  },
  {
   "cell_type": "code",
   "execution_count": null,
   "id": "ccf6ac8e",
   "metadata": {},
   "outputs": [],
   "source": []
  },
  {
   "cell_type": "code",
   "execution_count": null,
   "id": "e4e166d1",
   "metadata": {},
   "outputs": [],
   "source": [
    "# Write a program to give an input as string but print your name"
   ]
  },
  {
   "cell_type": "code",
   "execution_count": 2,
   "id": "c14d8ed0",
   "metadata": {},
   "outputs": [
    {
     "name": "stdout",
     "output_type": "stream",
     "text": [
      "Enter a input = k\n",
      "KOUSHIK BISWAS\n"
     ]
    }
   ],
   "source": [
    "char=input(\"Enter a input = \")\n",
    "\n",
    "if char.isdigit():\n",
    "    print(\"This is not a string\")\n",
    "    \n",
    "else:\n",
    "    print(\"KOUSHIK BISWAS\")"
   ]
  },
  {
   "cell_type": "code",
   "execution_count": null,
   "id": "c3e320ba",
   "metadata": {},
   "outputs": [],
   "source": []
  },
  {
   "cell_type": "markdown",
   "id": "b765d950",
   "metadata": {},
   "source": [
    "# 13. : What will be the output of the following program? x = [0, 1, [2]] x[2][0] = 3 print x x[2].append(4) print x x[2] = 2 print x"
   ]
  },
  {
   "cell_type": "code",
   "execution_count": 4,
   "id": "66960c7e",
   "metadata": {},
   "outputs": [
    {
     "name": "stdout",
     "output_type": "stream",
     "text": [
      "[0, 1, [3, 4]] None\n",
      "[0, 1, [3, 4]] False\n",
      "[0, 1, [3, 4]]\n"
     ]
    }
   ],
   "source": [
    "x = [0, 1, [2]]\n",
    "x[2][0] = 3\n",
    "print(x, x[2].append(4))\n",
    "print(x, x[2] == 2)\n",
    "print(x)"
   ]
  },
  {
   "cell_type": "markdown",
   "id": "44b5c283",
   "metadata": {},
   "source": [
    "# 14. Python has a built-in function sum to find sum of all elements of a list. Provide an implementation for sum"
   ]
  },
  {
   "cell_type": "code",
   "execution_count": 4,
   "id": "eeae121b",
   "metadata": {},
   "outputs": [],
   "source": [
    "list1=[5,7,8,9]"
   ]
  },
  {
   "cell_type": "code",
   "execution_count": 5,
   "id": "173c8a6e",
   "metadata": {},
   "outputs": [
    {
     "data": {
      "text/plain": [
       "29"
      ]
     },
     "execution_count": 5,
     "metadata": {},
     "output_type": "execute_result"
    }
   ],
   "source": [
    "sum(list1)"
   ]
  },
  {
   "cell_type": "markdown",
   "id": "d356b14e",
   "metadata": {},
   "source": [
    "# 15. What happens when the above sum function is called with a list of strings? Can you make your sum function work for a list of strings as well?"
   ]
  },
  {
   "cell_type": "code",
   "execution_count": 11,
   "id": "3d1f3303",
   "metadata": {},
   "outputs": [
    {
     "ename": "TypeError",
     "evalue": "unsupported operand type(s) for +: 'int' and 'str'",
     "output_type": "error",
     "traceback": [
      "\u001b[1;31m---------------------------------------------------------------------------\u001b[0m",
      "\u001b[1;31mTypeError\u001b[0m                                 Traceback (most recent call last)",
      "Cell \u001b[1;32mIn[11], line 1\u001b[0m\n\u001b[1;32m----> 1\u001b[0m \u001b[38;5;28msum\u001b[39m([\u001b[38;5;124m'\u001b[39m\u001b[38;5;124mk\u001b[39m\u001b[38;5;124m'\u001b[39m,\u001b[38;5;124m'\u001b[39m\u001b[38;5;124mo\u001b[39m\u001b[38;5;124m'\u001b[39m,\u001b[38;5;124m'\u001b[39m\u001b[38;5;124mu\u001b[39m\u001b[38;5;124m'\u001b[39m,\u001b[38;5;124m'\u001b[39m\u001b[38;5;124ms\u001b[39m\u001b[38;5;124m'\u001b[39m,\u001b[38;5;124m'\u001b[39m\u001b[38;5;124mh\u001b[39m\u001b[38;5;124m'\u001b[39m,\u001b[38;5;124m'\u001b[39m\u001b[38;5;124mi\u001b[39m\u001b[38;5;124m'\u001b[39m,\u001b[38;5;124m'\u001b[39m\u001b[38;5;124mk\u001b[39m\u001b[38;5;124m'\u001b[39m])\n",
      "\u001b[1;31mTypeError\u001b[0m: unsupported operand type(s) for +: 'int' and 'str'"
     ]
    }
   ],
   "source": [
    "sum(['k','o','u','s','h','i','k'])"
   ]
  },
  {
   "cell_type": "code",
   "execution_count": 12,
   "id": "6d69809c",
   "metadata": {},
   "outputs": [],
   "source": [
    "# This function is intended specifically for use with numeric values and may reject non-numeric types."
   ]
  },
  {
   "cell_type": "markdown",
   "id": "f1903788",
   "metadata": {},
   "source": [
    "# 16. Implement a function product, to compute product of a list of numbers"
   ]
  },
  {
   "cell_type": "code",
   "execution_count": 13,
   "id": "a592f489",
   "metadata": {},
   "outputs": [],
   "source": [
    "def product_func(list):\n",
    "    ans=1\n",
    "    for i in list:\n",
    "        ans=ans*i\n",
    "        \n",
    "    return ans"
   ]
  },
  {
   "cell_type": "code",
   "execution_count": 14,
   "id": "7429a472",
   "metadata": {},
   "outputs": [
    {
     "data": {
      "text/plain": [
       "720"
      ]
     },
     "execution_count": 14,
     "metadata": {},
     "output_type": "execute_result"
    }
   ],
   "source": [
    "list1=[1,2,3,4,5,6]\n",
    "product_func(list1)"
   ]
  },
  {
   "cell_type": "markdown",
   "id": "f9f74a20",
   "metadata": {},
   "source": [
    "# 17. Write a function reverse to reverse a list. Can you do this without using list slicing?"
   ]
  },
  {
   "cell_type": "code",
   "execution_count": 15,
   "id": "fa113635",
   "metadata": {},
   "outputs": [],
   "source": [
    "def reverse_list (list):\n",
    "    return list[::-1]"
   ]
  },
  {
   "cell_type": "code",
   "execution_count": 16,
   "id": "f7f2cc59",
   "metadata": {},
   "outputs": [
    {
     "data": {
      "text/plain": [
       "['k', 'i', 'h', 's', 'u', 'o', 'k']"
      ]
     },
     "execution_count": 16,
     "metadata": {},
     "output_type": "execute_result"
    }
   ],
   "source": [
    "list1=['k','o','u','s','h','i','k']\n",
    "reverse_list(list1)"
   ]
  },
  {
   "cell_type": "markdown",
   "id": "01fa6337",
   "metadata": {},
   "source": [
    "# 18. Cumulative sum of a list [a, b, c, ...] is defined as [a, a+b, a+b+c, ...]. Write a function cumulative_sum to compute cumulative sum of a list. Does your implementation work for a list of strings?"
   ]
  },
  {
   "cell_type": "code",
   "execution_count": 17,
   "id": "7e324c52",
   "metadata": {},
   "outputs": [],
   "source": [
    "def cumulative_sum(list):\n",
    "    cumulative_sum_list=[]\n",
    "    sum=0\n",
    "    for i in list:\n",
    "        sum=sum+i\n",
    "        cumulative_sum_list.append(sum)\n",
    "        \n",
    "    return cumulative_sum_list"
   ]
  },
  {
   "cell_type": "code",
   "execution_count": 18,
   "id": "c64b817e",
   "metadata": {},
   "outputs": [
    {
     "data": {
      "text/plain": [
       "[1, 3, 6, 10, 15, 21, 28, 36, 45]"
      ]
     },
     "execution_count": 18,
     "metadata": {},
     "output_type": "execute_result"
    }
   ],
   "source": [
    "list1=[1,2,3,4,5,6,7,8,9]\n",
    "cumulative_sum(list1)"
   ]
  },
  {
   "cell_type": "code",
   "execution_count": 20,
   "id": "0edb3cef",
   "metadata": {},
   "outputs": [
    {
     "ename": "TypeError",
     "evalue": "unsupported operand type(s) for +: 'int' and 'str'",
     "output_type": "error",
     "traceback": [
      "\u001b[1;31m---------------------------------------------------------------------------\u001b[0m",
      "\u001b[1;31mTypeError\u001b[0m                                 Traceback (most recent call last)",
      "Cell \u001b[1;32mIn[20], line 2\u001b[0m\n\u001b[0;32m      1\u001b[0m list2\u001b[38;5;241m=\u001b[39m[\u001b[38;5;124m'\u001b[39m\u001b[38;5;124mk\u001b[39m\u001b[38;5;124m'\u001b[39m,\u001b[38;5;124m'\u001b[39m\u001b[38;5;124mo\u001b[39m\u001b[38;5;124m'\u001b[39m,\u001b[38;5;124m'\u001b[39m\u001b[38;5;124mu\u001b[39m\u001b[38;5;124m'\u001b[39m,\u001b[38;5;124m'\u001b[39m\u001b[38;5;124ms\u001b[39m\u001b[38;5;124m'\u001b[39m,\u001b[38;5;124m'\u001b[39m\u001b[38;5;124mh\u001b[39m\u001b[38;5;124m'\u001b[39m,\u001b[38;5;124m'\u001b[39m\u001b[38;5;124mi\u001b[39m\u001b[38;5;124m'\u001b[39m,\u001b[38;5;124m'\u001b[39m\u001b[38;5;124mk\u001b[39m\u001b[38;5;124m'\u001b[39m]\n\u001b[1;32m----> 2\u001b[0m cumulative_sum(list2)\n",
      "Cell \u001b[1;32mIn[17], line 5\u001b[0m, in \u001b[0;36mcumulative_sum\u001b[1;34m(list)\u001b[0m\n\u001b[0;32m      3\u001b[0m \u001b[38;5;28msum\u001b[39m\u001b[38;5;241m=\u001b[39m\u001b[38;5;241m0\u001b[39m\n\u001b[0;32m      4\u001b[0m \u001b[38;5;28;01mfor\u001b[39;00m i \u001b[38;5;129;01min\u001b[39;00m \u001b[38;5;28mlist\u001b[39m:\n\u001b[1;32m----> 5\u001b[0m     \u001b[38;5;28msum\u001b[39m\u001b[38;5;241m=\u001b[39m\u001b[38;5;28msum\u001b[39m\u001b[38;5;241m+\u001b[39mi\n\u001b[0;32m      6\u001b[0m     cumulative_sum_list\u001b[38;5;241m.\u001b[39mappend(\u001b[38;5;28msum\u001b[39m)\n\u001b[0;32m      8\u001b[0m \u001b[38;5;28;01mreturn\u001b[39;00m cumulative_sum_list\n",
      "\u001b[1;31mTypeError\u001b[0m: unsupported operand type(s) for +: 'int' and 'str'"
     ]
    }
   ],
   "source": [
    "list2=['k','o','u','s','h','i','k']\n",
    "cumulative_sum(list2)"
   ]
  },
  {
   "cell_type": "markdown",
   "id": "ee1d9ae6",
   "metadata": {},
   "source": [
    "# 19. Write a function cumulative_product to compute cumulative product of a list of numbers."
   ]
  },
  {
   "cell_type": "code",
   "execution_count": 25,
   "id": "ddd6eb3d",
   "metadata": {},
   "outputs": [],
   "source": [
    "def cumulative_product(list):\n",
    "    cumulative_product_list=[]\n",
    "    product=1\n",
    "    for i in list:\n",
    "        product=product*i\n",
    "        cumulative_product_list.append(product)\n",
    "        \n",
    "    return cumulative_product_list"
   ]
  },
  {
   "cell_type": "code",
   "execution_count": 26,
   "id": "e3796828",
   "metadata": {},
   "outputs": [
    {
     "data": {
      "text/plain": [
       "[1, 2, 6, 24, 120, 720, 5040, 40320, 362880]"
      ]
     },
     "execution_count": 26,
     "metadata": {},
     "output_type": "execute_result"
    }
   ],
   "source": [
    "list1=[1,2,3,4,5,6,7,8,9]\n",
    "cumulative_product(list1)"
   ]
  },
  {
   "cell_type": "code",
   "execution_count": null,
   "id": "baef3ce0",
   "metadata": {},
   "outputs": [],
   "source": []
  },
  {
   "cell_type": "markdown",
   "id": "91dcf7e3",
   "metadata": {},
   "source": [
    "# 20. Write a function unique to find all the unique elements of a list."
   ]
  },
  {
   "cell_type": "code",
   "execution_count": 3,
   "id": "1faac1c6",
   "metadata": {},
   "outputs": [],
   "source": [
    "def unique_element_list(list):\n",
    "    unique_list=[]\n",
    "    for i in list:\n",
    "        if i not in unique_list:\n",
    "            unique_list.append(i)\n",
    "            print(i)"
   ]
  },
  {
   "cell_type": "code",
   "execution_count": 5,
   "id": "3c505711",
   "metadata": {},
   "outputs": [
    {
     "name": "stdout",
     "output_type": "stream",
     "text": [
      "k\n",
      "o\n",
      "u\n",
      "s\n",
      "h\n",
      "i\n"
     ]
    }
   ],
   "source": [
    "list2=['k','o','u','s','h','i','k']\n",
    "unique_element_list(list2)"
   ]
  },
  {
   "cell_type": "markdown",
   "id": "7df74fb3",
   "metadata": {},
   "source": [
    "# 21. Write a function dups to find all duplicates in the list"
   ]
  },
  {
   "cell_type": "code",
   "execution_count": null,
   "id": "aef7d9e5",
   "metadata": {},
   "outputs": [],
   "source": [
    "def unique_element_list(list):\n",
    "    unique_list=[]\n",
    "    for i in list:\n",
    "        if i in unique_list:\n",
    "            unique_list.append(i)\n",
    "            print(i)"
   ]
  },
  {
   "cell_type": "code",
   "execution_count": 6,
   "id": "f3a3d22a",
   "metadata": {},
   "outputs": [
    {
     "name": "stdout",
     "output_type": "stream",
     "text": [
      "k\n",
      "o\n",
      "u\n",
      "s\n",
      "h\n",
      "i\n"
     ]
    }
   ],
   "source": [
    "list2=['k','o','u','s','h','i','k']\n",
    "unique_element_list(list2)"
   ]
  },
  {
   "cell_type": "markdown",
   "id": "a213b052",
   "metadata": {},
   "source": [
    "# 22. Write a function group(list, size) that take a list and splits into smaller lists of given size."
   ]
  },
  {
   "cell_type": "code",
   "execution_count": 8,
   "id": "15fea0e7",
   "metadata": {},
   "outputs": [],
   "source": [
    "def sub_list(list,size):\n",
    "    return list[:size]"
   ]
  },
  {
   "cell_type": "code",
   "execution_count": 9,
   "id": "cba50d0d",
   "metadata": {},
   "outputs": [
    {
     "data": {
      "text/plain": [
       "['k', 'o', 'u']"
      ]
     },
     "execution_count": 9,
     "metadata": {},
     "output_type": "execute_result"
    }
   ],
   "source": [
    "list2=['k','o','u','s','h','i','k']\n",
    "sub_list(list2,3)"
   ]
  },
  {
   "cell_type": "markdown",
   "id": "05280799",
   "metadata": {},
   "source": [
    "# 23. Write a function lensort to sort a list of strings based on length."
   ]
  },
  {
   "cell_type": "code",
   "execution_count": 5,
   "id": "219b93db",
   "metadata": {},
   "outputs": [],
   "source": [
    "def lensort(list):\n",
    "    return sorted(list, key=len )"
   ]
  },
  {
   "cell_type": "code",
   "execution_count": 65,
   "id": "a9ffae80",
   "metadata": {},
   "outputs": [],
   "source": [
    "list2=['koushik','akash','manotosh','shibaram']\n",
    "#lensort(list)"
   ]
  },
  {
   "cell_type": "code",
   "execution_count": 66,
   "id": "c03f1b92",
   "metadata": {},
   "outputs": [
    {
     "name": "stdout",
     "output_type": "stream",
     "text": [
      "['manotosh', 'shibaram', 'koushik', 'akash']\n"
     ]
    }
   ],
   "source": [
    "for i in range(len(list2)):\n",
    "    for j in range(i+1, len(list2)):\n",
    "        if len(list2[i])<len(list2[j]):\n",
    "            m=list2[i]\n",
    "            list2[i]=list2[j]\n",
    "            list2[j]=m\n",
    "            \n",
    "print(list2)"
   ]
  },
  {
   "cell_type": "code",
   "execution_count": null,
   "id": "7983b402",
   "metadata": {},
   "outputs": [],
   "source": []
  },
  {
   "cell_type": "markdown",
   "id": "24373d98",
   "metadata": {},
   "source": [
    "# 24. Improve the unique function written in previous problems to take an optional key function as argument and use the return value of the key function to check for uniqueness."
   ]
  },
  {
   "cell_type": "code",
   "execution_count": null,
   "id": "10778422",
   "metadata": {},
   "outputs": [],
   "source": []
  },
  {
   "cell_type": "code",
   "execution_count": null,
   "id": "45fb0ca4",
   "metadata": {},
   "outputs": [],
   "source": []
  },
  {
   "cell_type": "code",
   "execution_count": null,
   "id": "541d2c0c",
   "metadata": {},
   "outputs": [],
   "source": []
  },
  {
   "cell_type": "code",
   "execution_count": null,
   "id": "9b239fa2",
   "metadata": {},
   "outputs": [],
   "source": []
  },
  {
   "cell_type": "markdown",
   "id": "565ed1ed",
   "metadata": {},
   "source": [
    "# 25. Reimplement the unique function implemented in the earlier examples using sets."
   ]
  },
  {
   "cell_type": "code",
   "execution_count": null,
   "id": "46236c9d",
   "metadata": {},
   "outputs": [],
   "source": []
  },
  {
   "cell_type": "code",
   "execution_count": null,
   "id": "4c92c345",
   "metadata": {},
   "outputs": [],
   "source": []
  },
  {
   "cell_type": "code",
   "execution_count": null,
   "id": "edc44803",
   "metadata": {},
   "outputs": [],
   "source": []
  },
  {
   "cell_type": "code",
   "execution_count": null,
   "id": "c766fa48",
   "metadata": {},
   "outputs": [],
   "source": []
  },
  {
   "cell_type": "code",
   "execution_count": null,
   "id": "8c4ca963",
   "metadata": {},
   "outputs": [],
   "source": []
  }
 ],
 "metadata": {
  "kernelspec": {
   "display_name": "Python 3 (ipykernel)",
   "language": "python",
   "name": "python3"
  },
  "language_info": {
   "codemirror_mode": {
    "name": "ipython",
    "version": 3
   },
   "file_extension": ".py",
   "mimetype": "text/x-python",
   "name": "python",
   "nbconvert_exporter": "python",
   "pygments_lexer": "ipython3",
   "version": "3.11.5"
  }
 },
 "nbformat": 4,
 "nbformat_minor": 5
}
