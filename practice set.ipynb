{
 "cells": [
  {
   "cell_type": "markdown",
   "id": "672ca95f",
   "metadata": {},
   "source": [
    "# 1. Write a programe that generates prime numbers within a given range using nesated for loops."
   ]
  },
  {
   "cell_type": "code",
   "execution_count": 12,
   "id": "b8d3b34b",
   "metadata": {},
   "outputs": [
    {
     "name": "stdout",
     "output_type": "stream",
     "text": [
      "pls input a range100\n",
      "[1, 2, 3, 5, 7, 11, 13, 17, 19, 23, 29, 31, 37, 41, 43, 47, 53, 59, 61, 67, 71, 73, 79, 83, 89, 97]\n"
     ]
    }
   ],
   "source": [
    "num=int(input(\"pls input a range\"))\n",
    "prime_list=[1]\n",
    "\n",
    "for i in range(1,num+1):\n",
    "    m=0\n",
    "    for j in range(1,i+1):\n",
    "        if i%j==0:\n",
    "            m+=1\n",
    "    if m==2:\n",
    "        prime_list.append(i)\n",
    "                \n",
    "            \n",
    "            \n",
    "print(prime_list)"
   ]
  },
  {
   "cell_type": "markdown",
   "id": "8d64b70e",
   "metadata": {},
   "source": [
    "# 2. Create a programe that takes a numerical score as input and outputs the crossponding letter grade(A,B,C,D, or F) using if-else statement"
   ]
  },
  {
   "cell_type": "code",
   "execution_count": 26,
   "id": "7602e064",
   "metadata": {},
   "outputs": [
    {
     "name": "stdout",
     "output_type": "stream",
     "text": [
      "pls input a int between 1 and 6 = 5\n",
      "letter= E\n"
     ]
    }
   ],
   "source": [
    "num=float(input(\"pls input a int between 1 and 6 = \"))\n",
    "num=int(num)\n",
    "if num<0 and num>26:\n",
    "    print(\"pls enter a valied input\")\n",
    "    \n",
    "\n",
    "if num==1:\n",
    "    print('letter=', 'A')\n",
    "    \n",
    "elif num==2:\n",
    "    print('letter=', 'B')\n",
    "    \n",
    "elif num==3:\n",
    "    print('letter=', 'C')\n",
    "    \n",
    "elif num==4:\n",
    "    print('letter=', 'D')\n",
    "    \n",
    "elif num==5:\n",
    "    print('letter=', 'E')\n",
    "    \n",
    "elif num==6:\n",
    "    print('letter=', 'F')"
   ]
  },
  {
   "cell_type": "markdown",
   "id": "77bc32e7",
   "metadata": {},
   "source": [
    "# 3. Create a body Mass Index(BMI) calculator that takes height and weight as input and categorizes the BMI value into different weight categories(underweight, normal, overweight, obese) using if-else"
   ]
  },
  {
   "cell_type": "code",
   "execution_count": 20,
   "id": "5570c984",
   "metadata": {},
   "outputs": [
    {
     "name": "stdout",
     "output_type": "stream",
     "text": [
      "please enter your weight in kg = 53\n",
      "please enter your height in meter = 1.7\n",
      "underweight\n"
     ]
    }
   ],
   "source": [
    "weight=float(input(\"please enter your weight in kg = \"))\n",
    "height=float(input(\"please enter your height in meter = \"))\n",
    "\n",
    "bmi=(weight/height**2)\n",
    "if bmi<18.5:\n",
    "    print(\"underweight\")\n",
    "    \n",
    "elif bmi>=18.5 and bmi <=24.9 :\n",
    "    print(\"normal\")\n",
    "    \n",
    "elif bmi>=25 and bmi <=29.9:\n",
    "    print(\"overweight\")\n",
    "    \n",
    "elif bmi>=30:\n",
    "    print(\"obese\")"
   ]
  },
  {
   "cell_type": "markdown",
   "id": "aca6d9a9",
   "metadata": {},
   "source": [
    "# 4. Create a programe that classifies a given charecter into categories such as alphabate, digit, special charecter or white space using if else statement"
   ]
  },
  {
   "cell_type": "code",
   "execution_count": 72,
   "id": "2ab704ac",
   "metadata": {},
   "outputs": [
    {
     "data": {
      "text/plain": [
       "['0', '1', '2', '3', '4', '5', '6', '7', '8', '9']"
      ]
     },
     "execution_count": 72,
     "metadata": {},
     "output_type": "execute_result"
    }
   ],
   "source": [
    "small_alpha=['a', 'b', 'c', 'd', 'e', 'f', 'g', 'h', 'i', 'j', 'k', 'l', 'm', 'n', 'o', 'p', 'q', 'r', 's', 't', 'u', 'v', 'w', 'x', 'y', 'z']\n",
    "\n",
    "number=\"0123456789\"\n",
    "number_list=[num for num in number]\n",
    "number_list"
   ]
  },
  {
   "cell_type": "code",
   "execution_count": 84,
   "id": "a8888471",
   "metadata": {},
   "outputs": [
    {
     "name": "stdout",
     "output_type": "stream",
     "text": [
      "pls enter a key which you want = p\n",
      "You entered a small alphabate\n"
     ]
    }
   ],
   "source": [
    "x= input(\"pls enter a key which you want = \")\n",
    "\n",
    "if x in small_alpha:\n",
    "    print(\"You entered a small alphabate\")\n",
    "    \n",
    "elif x in number_list:\n",
    "    print(\"You enterd a number\")\n",
    "    \n",
    "else:\n",
    "    print(\"You entered a special char\")"
   ]
  },
  {
   "cell_type": "code",
   "execution_count": null,
   "id": "939f1598",
   "metadata": {},
   "outputs": [],
   "source": []
  },
  {
   "cell_type": "code",
   "execution_count": null,
   "id": "47129e78",
   "metadata": {},
   "outputs": [],
   "source": []
  },
  {
   "cell_type": "code",
   "execution_count": null,
   "id": "f8805f41",
   "metadata": {},
   "outputs": [],
   "source": []
  },
  {
   "cell_type": "markdown",
   "id": "aee2d9cb",
   "metadata": {},
   "source": [
    "# 5. Write a programe that identifies that language of a given text (limited to a fiew languages) if else condition based on languages specific pattern"
   ]
  },
  {
   "cell_type": "code",
   "execution_count": null,
   "id": "f3c05006",
   "metadata": {},
   "outputs": [],
   "source": []
  },
  {
   "cell_type": "markdown",
   "id": "0676134a",
   "metadata": {},
   "source": [
    "# 6. Devolope a program that calculatews the squar root of a given number using loops."
   ]
  },
  {
   "cell_type": "code",
   "execution_count": 40,
   "id": "d81dab14",
   "metadata": {},
   "outputs": [
    {
     "name": "stdout",
     "output_type": "stream",
     "text": [
      "Enter a number4\n",
      "The squar root of x = 2\n"
     ]
    }
   ],
   "source": [
    "x=int(input(\"Enter a number\"))\n",
    "\n",
    "for i in range(1, x):\n",
    "    if i*i==x:\n",
    "        print(\"The squar root of x =\", i)"
   ]
  },
  {
   "cell_type": "code",
   "execution_count": null,
   "id": "ede185ba",
   "metadata": {},
   "outputs": [],
   "source": []
  },
  {
   "cell_type": "markdown",
   "id": "6b322c74",
   "metadata": {},
   "source": [
    "# 7. Programe to count the occurrences of each charecter in a string using loops."
   ]
  },
  {
   "cell_type": "code",
   "execution_count": 82,
   "id": "5a670fcc",
   "metadata": {},
   "outputs": [
    {
     "name": "stdout",
     "output_type": "stream",
     "text": [
      "Enter a string= koushik biswas\n",
      "{'k': 2, 'o': 1, 'u': 1, 's': 3, 'h': 1, 'i': 2, ' ': 1, 'b': 1, 'w': 1, 'a': 1}\n"
     ]
    }
   ],
   "source": [
    "string=input(\"Enter a string= \")\n",
    "list=[]\n",
    "dict={}\n",
    "\n",
    "for i in string:\n",
    "    if i not in list:\n",
    "        list.append(i)     \n",
    "for i in list:\n",
    "    n=0\n",
    "    for j in string:\n",
    "        if i==j:\n",
    "            n=n+1\n",
    "    dict[i]=n\n",
    "print(dict)"
   ]
  },
  {
   "cell_type": "markdown",
   "id": "783340a2",
   "metadata": {},
   "source": [
    "# 8. Write a python programe to sort 3 numbers using if-else statement"
   ]
  },
  {
   "cell_type": "code",
   "execution_count": 41,
   "id": "2ff066c3",
   "metadata": {},
   "outputs": [
    {
     "name": "stdout",
     "output_type": "stream",
     "text": [
      "number1= 12\n",
      "number2= 45\n",
      "number3= 10\n",
      "10.0 12.0 45.0\n"
     ]
    }
   ],
   "source": [
    "a=float(input(\"number1= \"))\n",
    "b=float(input(\"number2= \"))\n",
    "c=float(input(\"number3= \"))\n",
    "\n",
    "if a<=b<=c:\n",
    "    print(a,b,c)\n",
    "    \n",
    "elif a<=c<=b:\n",
    "    print(a,c,b)\n",
    "    \n",
    "elif b<=a<=c:\n",
    "    print(b,a,c)\n",
    "    \n",
    "elif b<=c<=a:\n",
    "    print(b,c,a)\n",
    "    \n",
    "elif c<=a<=b:\n",
    "    print(c,a,b)\n",
    "    \n",
    "    "
   ]
  },
  {
   "cell_type": "code",
   "execution_count": null,
   "id": "01c1b0e6",
   "metadata": {},
   "outputs": [],
   "source": []
  },
  {
   "cell_type": "markdown",
   "id": "44deacb0",
   "metadata": {},
   "source": [
    "# 9.Write a programe to calculate simple interest with the follwing condition;                          \n",
    "If the principle amount is less than 200000 the interest rate is 10%                                   \n",
    "If the principle amount is 200000-1000000 the interest rate is 12%                              \n",
    "If the principle amount is greater than 200000 the interest rate is 15%                                  "
   ]
  },
  {
   "cell_type": "code",
   "execution_count": 49,
   "id": "d4e9a839",
   "metadata": {},
   "outputs": [
    {
     "name": "stdout",
     "output_type": "stream",
     "text": [
      "Enter the amount400000\n",
      "interest=  48000.0\n"
     ]
    }
   ],
   "source": [
    "amount=float(input(\"Enter the amount\"))\n",
    "\n",
    "if amount<200000:\n",
    "    print('interest= ', (amount*10)/100)\n",
    "    \n",
    "elif amount>=200000 and amount<1000000:\n",
    "    print('interest= ', (amount*12)/100)\n",
    "    \n",
    "if amount>=1000000:\n",
    "    print('interest= ', (amount*15)/100)"
   ]
  },
  {
   "cell_type": "code",
   "execution_count": null,
   "id": "542b33b4",
   "metadata": {},
   "outputs": [],
   "source": []
  },
  {
   "cell_type": "code",
   "execution_count": null,
   "id": "e9a0340b",
   "metadata": {},
   "outputs": [],
   "source": []
  },
  {
   "cell_type": "code",
   "execution_count": null,
   "id": "6997c466",
   "metadata": {},
   "outputs": [],
   "source": []
  },
  {
   "cell_type": "code",
   "execution_count": null,
   "id": "00e4c1c0",
   "metadata": {},
   "outputs": [],
   "source": []
  },
  {
   "cell_type": "code",
   "execution_count": null,
   "id": "18b06946",
   "metadata": {},
   "outputs": [],
   "source": []
  },
  {
   "cell_type": "markdown",
   "id": "9c1722cf",
   "metadata": {},
   "source": [
    "# 10. Write a programe to print the decimal equivalents of 1/2, 1/3, 1/4,...., 1/10 "
   ]
  },
  {
   "cell_type": "code",
   "execution_count": 44,
   "id": "37969d95",
   "metadata": {},
   "outputs": [
    {
     "name": "stdout",
     "output_type": "stream",
     "text": [
      "0.5\n",
      "0.333\n",
      "0.25\n",
      "0.2\n",
      "0.167\n",
      "0.143\n",
      "0.125\n",
      "0.111\n",
      "0.1\n"
     ]
    }
   ],
   "source": [
    "for i in range(2, 11):\n",
    "    print(round(1/i, 3))"
   ]
  },
  {
   "cell_type": "markdown",
   "id": "074cb020",
   "metadata": {},
   "source": [
    "# printing odd number using for loop"
   ]
  },
  {
   "cell_type": "code",
   "execution_count": 74,
   "id": "b8ca7980",
   "metadata": {},
   "outputs": [
    {
     "name": "stdout",
     "output_type": "stream",
     "text": [
      "Enter a number20\n",
      "1 is odd\n",
      "3 is odd\n",
      "5 is odd\n",
      "7 is odd\n",
      "9 is odd\n",
      "11 is odd\n",
      "13 is odd\n",
      "15 is odd\n",
      "17 is odd\n",
      "19 is odd\n"
     ]
    }
   ],
   "source": [
    "x=int(input(\"Enter a number\"))\n",
    "\n",
    "for i in range(1,x+1):\n",
    "    if i%2!=0:\n",
    "        print(i,\"is odd\")"
   ]
  },
  {
   "cell_type": "markdown",
   "id": "59f0d5a1",
   "metadata": {},
   "source": [
    "# printing even number using while loop"
   ]
  },
  {
   "cell_type": "code",
   "execution_count": 77,
   "id": "494fa67b",
   "metadata": {},
   "outputs": [
    {
     "name": "stdout",
     "output_type": "stream",
     "text": [
      "Enter a number20\n",
      "2  is even\n",
      "4  is even\n",
      "6  is even\n",
      "8  is even\n",
      "10  is even\n",
      "12  is even\n",
      "14  is even\n",
      "16  is even\n",
      "18  is even\n",
      "20  is even\n"
     ]
    }
   ],
   "source": [
    "x=int(input(\"Enter a number\"))\n",
    "\n",
    "i=2\n",
    "\n",
    "while i<x+1:\n",
    "    print(i, \" is even\")\n",
    "    i=i+2"
   ]
  },
  {
   "cell_type": "markdown",
   "id": "bd5d83fb",
   "metadata": {},
   "source": [
    "# Sum of first n digit"
   ]
  },
  {
   "cell_type": "code",
   "execution_count": 81,
   "id": "fc87a582",
   "metadata": {},
   "outputs": [
    {
     "name": "stdout",
     "output_type": "stream",
     "text": [
      "210\n"
     ]
    }
   ],
   "source": [
    "x=20\n",
    "sum=0\n",
    "for i in range(21):\n",
    "    sum=sum+i\n",
    "print(sum)"
   ]
  },
  {
   "cell_type": "markdown",
   "id": "b97efbc6",
   "metadata": {},
   "source": [
    "# Calculetor using function"
   ]
  },
  {
   "cell_type": "code",
   "execution_count": 18,
   "id": "8e05671a",
   "metadata": {},
   "outputs": [],
   "source": [
    "def calculetor(x,y,oparetor):\n",
    "    if oparetor=='+':\n",
    "        return x+y\n",
    "    \n",
    "    elif oparetor=='-':\n",
    "        return x-y \n",
    "    \n",
    "    elif oparetor=='*':\n",
    "        return x*y\n",
    "    \n",
    "    elif oparetor=='/':\n",
    "        if y==0:\n",
    "            print(\"division by Zero error\")\n",
    "        else:\n",
    "            return x/y"
   ]
  },
  {
   "cell_type": "code",
   "execution_count": 20,
   "id": "2ea4adda",
   "metadata": {},
   "outputs": [
    {
     "name": "stdout",
     "output_type": "stream",
     "text": [
      "Enter a number456\n",
      "Enter another number456\n",
      "Enter the operater: +, -, *, //\n"
     ]
    },
    {
     "data": {
      "text/plain": [
       "1.0"
      ]
     },
     "execution_count": 20,
     "metadata": {},
     "output_type": "execute_result"
    }
   ],
   "source": [
    "x=float(input(\"Enter a number\"))\n",
    "y=float(input(\"Enter another number\"))\n",
    "z=input(\"Enter the operater: +, -, *, /\")\n",
    "calculetor(x,y,z)"
   ]
  },
  {
   "cell_type": "code",
   "execution_count": null,
   "id": "02ec0e9d",
   "metadata": {},
   "outputs": [],
   "source": []
  },
  {
   "cell_type": "code",
   "execution_count": null,
   "id": "974a885b",
   "metadata": {},
   "outputs": [],
   "source": []
  },
  {
   "cell_type": "code",
   "execution_count": null,
   "id": "7b8da3cb",
   "metadata": {},
   "outputs": [],
   "source": []
  },
  {
   "cell_type": "code",
   "execution_count": null,
   "id": "f4802591",
   "metadata": {},
   "outputs": [],
   "source": []
  },
  {
   "cell_type": "code",
   "execution_count": null,
   "id": "cf8f4b0c",
   "metadata": {},
   "outputs": [],
   "source": []
  },
  {
   "cell_type": "code",
   "execution_count": null,
   "id": "5ee327de",
   "metadata": {},
   "outputs": [],
   "source": []
  },
  {
   "cell_type": "code",
   "execution_count": null,
   "id": "bce9125c",
   "metadata": {},
   "outputs": [],
   "source": []
  },
  {
   "cell_type": "code",
   "execution_count": null,
   "id": "e41f74e2",
   "metadata": {},
   "outputs": [],
   "source": []
  },
  {
   "cell_type": "code",
   "execution_count": null,
   "id": "ee01b2f4",
   "metadata": {},
   "outputs": [],
   "source": []
  },
  {
   "cell_type": "code",
   "execution_count": null,
   "id": "304b8e35",
   "metadata": {},
   "outputs": [],
   "source": []
  },
  {
   "cell_type": "code",
   "execution_count": null,
   "id": "4d2c5ae2",
   "metadata": {},
   "outputs": [],
   "source": []
  },
  {
   "cell_type": "code",
   "execution_count": null,
   "id": "0d6363bd",
   "metadata": {},
   "outputs": [],
   "source": []
  }
 ],
 "metadata": {
  "kernelspec": {
   "display_name": "Python 3 (ipykernel)",
   "language": "python",
   "name": "python3"
  },
  "language_info": {
   "codemirror_mode": {
    "name": "ipython",
    "version": 3
   },
   "file_extension": ".py",
   "mimetype": "text/x-python",
   "name": "python",
   "nbconvert_exporter": "python",
   "pygments_lexer": "ipython3",
   "version": "3.11.5"
  }
 },
 "nbformat": 4,
 "nbformat_minor": 5
}
