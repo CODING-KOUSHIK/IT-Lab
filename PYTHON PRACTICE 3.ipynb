{
 "cells": [
  {
   "cell_type": "markdown",
   "id": "15e363b0",
   "metadata": {},
   "source": [
    "# 1.You have the cost price and selling price of a product. Write a function to calculate the profit."
   ]
  },
  {
   "cell_type": "code",
   "execution_count": 3,
   "id": "6c2743ba",
   "metadata": {},
   "outputs": [
    {
     "name": "stdout",
     "output_type": "stream",
     "text": [
      "Enter the cost Price of the product: 50\n",
      "Enter the selling Price of the product: 25\n",
      "Loss =  25.0\n"
     ]
    }
   ],
   "source": [
    "def profit(c,s):\n",
    "    if s-c<0:\n",
    "        print(\"Loss = \", c-s)\n",
    "        \n",
    "    else:\n",
    "        print(\"Profit = \", s-c)\n",
    "\n",
    "c=float(input(\"Enter the cost Price of the product: \"))\n",
    "s=float(input(\"Enter the selling Price of the product: \"))\n",
    "profit(c,s)"
   ]
  },
  {
   "cell_type": "markdown",
   "id": "84aa4ad3",
   "metadata": {},
   "source": [
    "# 2. Write a function to get unique elements from a list"
   ]
  },
  {
   "cell_type": "code",
   "execution_count": 4,
   "id": "52118e77",
   "metadata": {},
   "outputs": [],
   "source": [
    "list1=['k','o','u','s','h','i','k','b','i','s','w','a','s']"
   ]
  },
  {
   "cell_type": "code",
   "execution_count": 5,
   "id": "1af9094d",
   "metadata": {},
   "outputs": [
    {
     "data": {
      "text/plain": [
       "['k', 'o', 'u', 's', 'h', 'i', 'b', 'w', 'a']"
      ]
     },
     "execution_count": 5,
     "metadata": {},
     "output_type": "execute_result"
    }
   ],
   "source": [
    "uniq_list=[]\n",
    "for i in list1:\n",
    "    if i not in uniq_list:\n",
    "        uniq_list.append(i)\n",
    "        \n",
    "uniq_list"
   ]
  },
  {
   "cell_type": "code",
   "execution_count": null,
   "id": "4dc68da6",
   "metadata": {},
   "outputs": [],
   "source": [
    "# 3. Python program to remove spaces from string without inbuilt function."
   ]
  },
  {
   "cell_type": "code",
   "execution_count": 15,
   "id": "3744290f",
   "metadata": {},
   "outputs": [
    {
     "data": {
      "text/plain": [
       "'koushikbiswas'"
      ]
     },
     "execution_count": 15,
     "metadata": {},
     "output_type": "execute_result"
    }
   ],
   "source": [
    "string=\"koushik biswas\"\n",
    "m=''\n",
    "for i in string:\n",
    "\n",
    "    if i!=\" \":\n",
    "        m=m+i\n",
    "m"
   ]
  },
  {
   "cell_type": "markdown",
   "id": "ba3480ee",
   "metadata": {},
   "source": [
    "# 4. What is the difference between a mutable data type and an immutable data type?"
   ]
  },
  {
   "cell_type": "code",
   "execution_count": 16,
   "id": "2fcda032",
   "metadata": {},
   "outputs": [],
   "source": [
    "#Mutable data means i can add or remove element from the data but if it is immutable data, i can not do it \n",
    "\n",
    "#Example: list is a mutable data and tuple is immutable data"
   ]
  },
  {
   "cell_type": "markdown",
   "id": "70589c8d",
   "metadata": {},
   "source": [
    "# 5. How can you replace string space with a given character in Python?"
   ]
  },
  {
   "cell_type": "code",
   "execution_count": 18,
   "id": "b6d67b46",
   "metadata": {},
   "outputs": [
    {
     "name": "stdout",
     "output_type": "stream",
     "text": [
      "please enter a character which you want to replace on space: _\n"
     ]
    },
    {
     "data": {
      "text/plain": [
       "'koushik_biswas'"
      ]
     },
     "execution_count": 18,
     "metadata": {},
     "output_type": "execute_result"
    }
   ],
   "source": [
    "string=\"koushik biswas\"\n",
    "\n",
    "x=input(\"please enter a character which you want to replace on space: \")\n",
    "m=''\n",
    "for i in string:\n",
    "\n",
    "    if i==\" \":\n",
    "        m=m+x\n",
    "        \n",
    "    else:\n",
    "        m=m+i\n",
    "m"
   ]
  },
  {
   "cell_type": "code",
   "execution_count": null,
   "id": "5d26b445",
   "metadata": {},
   "outputs": [],
   "source": []
  },
  {
   "cell_type": "code",
   "execution_count": null,
   "id": "6e2809bb",
   "metadata": {},
   "outputs": [],
   "source": [
    "# 6. Given a positive integer num, write a function that returns True if num is a perfect square else False."
   ]
  },
  {
   "cell_type": "code",
   "execution_count": 22,
   "id": "417c2563",
   "metadata": {},
   "outputs": [
    {
     "name": "stdout",
     "output_type": "stream",
     "text": [
      "please enter a positive integer number: 36\n",
      "36 is a perfect square of  6\n"
     ]
    }
   ],
   "source": [
    "int1=int(input(\"please enter a positive integer number: \"))\n",
    "for i in range(int1):\n",
    "    if i**2==int1:\n",
    "        print(int1,\"is a perfect square of \", i)\n",
    "        break\n",
    "        \n"
   ]
  },
  {
   "cell_type": "markdown",
   "id": "6de66316",
   "metadata": {},
   "source": [
    "# 7. Write a Python function that classifies a given number into different categories based on the following conditions:\n",
    " \n",
    "If the number is even, print \"Even\".                                     \n",
    "If the number is odd and greater than 10, print \"Odd and Greater than 10\".                                 \n",
    "If the number is odd and less than or equal to 10, print \"Odd and Less than or Equal to 10\"."
   ]
  },
  {
   "cell_type": "code",
   "execution_count": 23,
   "id": "5a550fe2",
   "metadata": {},
   "outputs": [
    {
     "name": "stdout",
     "output_type": "stream",
     "text": [
      "Enter an integer: 11\n",
      "The number is Odd and Greater than 10\n"
     ]
    }
   ],
   "source": [
    "x=int(input(\"Enter an integer: \"))\n",
    "if x%2==0:\n",
    "    print(\"The number is Even\")\n",
    "    \n",
    "else:\n",
    "    if x<10:\n",
    "        print(\"The number is Odd and less than equal to 10\")\n",
    "        \n",
    "    else:\n",
    "        print(\"The number is Odd and Greater than 10\")\n",
    "        \n",
    "        "
   ]
  },
  {
   "cell_type": "code",
   "execution_count": null,
   "id": "6509d3a3",
   "metadata": {},
   "outputs": [],
   "source": []
  },
  {
   "cell_type": "markdown",
   "id": "1dd00900",
   "metadata": {},
   "source": [
    "# 8. Design a Python function calculate_discount that calculates the discount amount based on a purchase amount and a discount percentage.\n",
    "If the purchase amount is greater than $100 and the discount percentage is 10% or more, the discount should be applied; otherwise, no discount is applied."
   ]
  },
  {
   "cell_type": "code",
   "execution_count": 1,
   "id": "9e2fa84c",
   "metadata": {},
   "outputs": [],
   "source": [
    "def calculate_discount(x,y):\n",
    "    if x>100:\n",
    "        return (x*(y+10))/100\n",
    "    else:\n",
    "        return (x*y)/100\n",
    "    "
   ]
  },
  {
   "cell_type": "code",
   "execution_count": 2,
   "id": "f2a42fcd",
   "metadata": {},
   "outputs": [
    {
     "data": {
      "text/plain": [
       "40.0"
      ]
     },
     "execution_count": 2,
     "metadata": {},
     "output_type": "execute_result"
    }
   ],
   "source": [
    "calculate_discount(200,10)"
   ]
  },
  {
   "cell_type": "code",
   "execution_count": 3,
   "id": "eff87a1f",
   "metadata": {},
   "outputs": [
    {
     "data": {
      "text/plain": [
       "10.0"
      ]
     },
     "execution_count": 3,
     "metadata": {},
     "output_type": "execute_result"
    }
   ],
   "source": [
    "calculate_discount(100,10)"
   ]
  },
  {
   "cell_type": "markdown",
   "id": "2d1f8d1f",
   "metadata": {},
   "source": [
    "# 9. Create a Python program that calculates the ticket price for a zoo based on a visitor's age and category. The pricing rules are as follows:\n",
    "For children (ages 3 to 12), the ticket price is $10.\n",
    "For adults (ages 13 to 64), the ticket price is $20.\n",
    "For seniors (ages 65 and above), the ticket price is $15.\n",
    "Additionally, there's a discount of 10% for children and seniors on Sundays."
   ]
  },
  {
   "cell_type": "code",
   "execution_count": 4,
   "id": "2d7e9a41",
   "metadata": {},
   "outputs": [],
   "source": [
    "def ticket_price(age, day):\n",
    "    if day == 'sun':\n",
    "        if age<3:\n",
    "            return 0\n",
    "        elif age>=3 and age<=12:\n",
    "            return 9\n",
    "        elif age>=13 and age<=64:\n",
    "            return 20\n",
    "        elif age>=65:\n",
    "            return 13.5\n",
    "        \n",
    "    elif day == 'mon' or day == 'tue' or day == 'wed' or day == 'thurs' or day == 'fri' or day == 'sat':\n",
    "        if age<3:\n",
    "            return 0\n",
    "        elif age>=3 and age<=12:\n",
    "            return 10\n",
    "        elif age>=13 and age<=64:\n",
    "            return 20\n",
    "        elif age>=65:\n",
    "            return 15\n",
    "        \n",
    "    else:\n",
    "        print(\"May be you entered a invalid key!\")"
   ]
  },
  {
   "cell_type": "code",
   "execution_count": 5,
   "id": "89f9c734",
   "metadata": {},
   "outputs": [
    {
     "data": {
      "text/plain": [
       "9"
      ]
     },
     "execution_count": 5,
     "metadata": {},
     "output_type": "execute_result"
    }
   ],
   "source": [
    "ticket_price(5,'sun')"
   ]
  },
  {
   "cell_type": "code",
   "execution_count": 7,
   "id": "d98c33f7",
   "metadata": {},
   "outputs": [
    {
     "data": {
      "text/plain": [
       "10"
      ]
     },
     "execution_count": 7,
     "metadata": {},
     "output_type": "execute_result"
    }
   ],
   "source": [
    "ticket_price(5,'mon')"
   ]
  },
  {
   "cell_type": "markdown",
   "id": "d23c99e4",
   "metadata": {},
   "source": [
    "# 10. Create a Python program that calculates discounts based on the total purchase amount. The discount rules are as follows:\n",
    "If the total purchase amount is $100 or more, provide a 10% discount.\n",
    "If the total purchase amount is less than $100 but at least $50, provide a 5% discount.\n",
    "If the total purchase amount is less than $50, no discount is applied."
   ]
  },
  {
   "cell_type": "code",
   "execution_count": 13,
   "id": "4f22d5f3",
   "metadata": {},
   "outputs": [],
   "source": [
    "def discount(x):\n",
    "    if x<50:\n",
    "        return 0\n",
    "    elif x<100 and x>=50:\n",
    "        return (x*5)/100\n",
    "    elif x>=100:\n",
    "        return (x*10)/100"
   ]
  },
  {
   "cell_type": "code",
   "execution_count": 14,
   "id": "21ef1ca0",
   "metadata": {},
   "outputs": [
    {
     "data": {
      "text/plain": [
       "10.0"
      ]
     },
     "execution_count": 14,
     "metadata": {},
     "output_type": "execute_result"
    }
   ],
   "source": [
    "discount(100)"
   ]
  },
  {
   "cell_type": "code",
   "execution_count": 15,
   "id": "456646e7",
   "metadata": {},
   "outputs": [
    {
     "data": {
      "text/plain": [
       "2.5"
      ]
     },
     "execution_count": 15,
     "metadata": {},
     "output_type": "execute_result"
    }
   ],
   "source": [
    "discount(50)"
   ]
  },
  {
   "cell_type": "code",
   "execution_count": 16,
   "id": "793364d8",
   "metadata": {},
   "outputs": [
    {
     "data": {
      "text/plain": [
       "0"
      ]
     },
     "execution_count": 16,
     "metadata": {},
     "output_type": "execute_result"
    }
   ],
   "source": [
    "discount(20)"
   ]
  },
  {
   "cell_type": "code",
   "execution_count": null,
   "id": "9cfcd1cd",
   "metadata": {},
   "outputs": [],
   "source": []
  },
  {
   "cell_type": "markdown",
   "id": "d1ed0460",
   "metadata": {},
   "source": [
    "# 11. What will be the output of\n",
    "hours = input(\"enter hours: \")\n",
    "rateperhr = 10\n",
    "print(\"Your total rate is\", int(hours)*rateperhr)\n",
    "if the input will be “12”, what will be the output? If the error is there, what is the error? Explain all the things."
   ]
  },
  {
   "cell_type": "code",
   "execution_count": 2,
   "id": "356e4eac",
   "metadata": {},
   "outputs": [
    {
     "name": "stdout",
     "output_type": "stream",
     "text": [
      "enter hours: 12\n",
      "Your total rate is 120\n"
     ]
    }
   ],
   "source": [
    "hours = input(\"enter hours: \")\n",
    "rateperhr = 10\n",
    "print(\"Your total rate is\", int(hours)*rateperhr)"
   ]
  },
  {
   "cell_type": "code",
   "execution_count": null,
   "id": "3dbbf035",
   "metadata": {},
   "outputs": [],
   "source": [
    "# we did not get any error because the input data type is string but when we multiply this with a number we convert this string into a number by \"int\"\n",
    "\n",
    "#if we input any char then we will get a error because it is not possible any char convert into a number"
   ]
  },
  {
   "cell_type": "code",
   "execution_count": null,
   "id": "f2f68bfd",
   "metadata": {},
   "outputs": [],
   "source": []
  },
  {
   "cell_type": "markdown",
   "id": "04563385",
   "metadata": {},
   "source": [
    "# 12. What will be the output of\n",
    "a = input(\"enter a number: \")\n",
    "b = input(\"enter another number: \")\n",
    "if a>b:\n",
    " print(\"First number is the largest\")\n",
    "else:\n",
    " print(\"Second number is the largest\")\n",
    "Explain. If a<b logic is there what will be the output? If we will give 2.3331 as a and 2.3335 as b, then what will be the output? If we give “2.3335” and “2.3331” then what will be the output? If any error is there in any case then explain the error.\n"
   ]
  },
  {
   "cell_type": "code",
   "execution_count": 3,
   "id": "ff932b22",
   "metadata": {},
   "outputs": [
    {
     "name": "stdout",
     "output_type": "stream",
     "text": [
      "enter a number: 2.3331\n",
      "enter another number: 2.3335\n",
      "Second number is the largest\n"
     ]
    }
   ],
   "source": [
    "a = input(\"enter a number: \")\n",
    "b = input(\"enter another number: \")\n",
    "if a>b:\n",
    "    print(\"First number is the largest\")\n",
    "else:\n",
    "    print(\"Second number is the largest\")"
   ]
  },
  {
   "cell_type": "markdown",
   "id": "ff786002",
   "metadata": {},
   "source": [
    "###### If a<b logic is there what will be the output?"
   ]
  },
  {
   "cell_type": "code",
   "execution_count": null,
   "id": "b462f881",
   "metadata": {},
   "outputs": [],
   "source": [
    "# if a<b logic happend then the if condition is not true and the programme will not enter the if condition and check is there any other condition\n",
    "# Since there is no other condition, the programe enter the else condition and output will be: \"Second number is the largest\""
   ]
  },
  {
   "cell_type": "code",
   "execution_count": null,
   "id": "cf954cb6",
   "metadata": {},
   "outputs": [],
   "source": []
  },
  {
   "cell_type": "markdown",
   "id": "3097f975",
   "metadata": {},
   "source": [
    "###### If we will give 2.3331 as a and 2.3335 as b, then what will be the output?"
   ]
  },
  {
   "cell_type": "code",
   "execution_count": 4,
   "id": "fdaeb774",
   "metadata": {},
   "outputs": [],
   "source": [
    "# We can see the output: Second number is the largest because if condition is not true for the input a and b"
   ]
  },
  {
   "cell_type": "code",
   "execution_count": null,
   "id": "bbe6bbba",
   "metadata": {},
   "outputs": [],
   "source": []
  },
  {
   "cell_type": "markdown",
   "id": "9f54ffb2",
   "metadata": {},
   "source": [
    "###### If we give “2.3335” and “2.3331” then what will be the output? If any error is there in any case then explain the error.\n"
   ]
  },
  {
   "cell_type": "code",
   "execution_count": 6,
   "id": "6d00f9d5",
   "metadata": {},
   "outputs": [
    {
     "name": "stdout",
     "output_type": "stream",
     "text": [
      "enter a number: \"2.3335\"\n",
      "enter another number: \"2.3331\"\n",
      "First number is the largest\n"
     ]
    }
   ],
   "source": [
    "a = input(\"enter a number: \")\n",
    "b = input(\"enter another number: \")\n",
    "if a>b:\n",
    "    print(\"First number is the largest\")\n",
    "else:\n",
    "    print(\"Second number is the largest\")"
   ]
  },
  {
   "cell_type": "code",
   "execution_count": null,
   "id": "cf8bcf5f",
   "metadata": {},
   "outputs": [],
   "source": []
  },
  {
   "cell_type": "markdown",
   "id": "dd90862f",
   "metadata": {},
   "source": [
    "# 13. What will be the output of\n",
    "x = 3\n",
    "if x == 4:\n",
    "  print(\"Yes\")\n",
    "else:\n",
    "  print(\"No\")\n",
    "If the input will be x=”4”, what will be the output? If any error is there then explain."
   ]
  },
  {
   "cell_type": "code",
   "execution_count": 7,
   "id": "a1ebf2a8",
   "metadata": {},
   "outputs": [
    {
     "name": "stdout",
     "output_type": "stream",
     "text": [
      "No\n"
     ]
    }
   ],
   "source": [
    "x = 3\n",
    "if x == 4:\n",
    "    print(\"Yes\")\n",
    "else:\n",
    "    print(\"No\")"
   ]
  },
  {
   "cell_type": "code",
   "execution_count": 12,
   "id": "1bf7f314",
   "metadata": {},
   "outputs": [],
   "source": [
    "# Since Here input is 3 and in the if condition x is compare to 4, the condition is False. programme skip the if condition and enter in the else condition"
   ]
  },
  {
   "cell_type": "code",
   "execution_count": null,
   "id": "e28409a0",
   "metadata": {},
   "outputs": [],
   "source": []
  },
  {
   "cell_type": "code",
   "execution_count": 8,
   "id": "57d0d22a",
   "metadata": {},
   "outputs": [
    {
     "name": "stdout",
     "output_type": "stream",
     "text": [
      "No\n"
     ]
    }
   ],
   "source": [
    "x = \"4\"\n",
    "if x == 4:\n",
    "    print(\"Yes\")\n",
    "else:\n",
    "    print(\"No\")"
   ]
  },
  {
   "cell_type": "code",
   "execution_count": 13,
   "id": "fb51aae5",
   "metadata": {},
   "outputs": [],
   "source": [
    "# Since, Here the data type of x is string and in the if condition we compare to a number then if condition is false and the programe enter the else loop and print \"No\""
   ]
  },
  {
   "cell_type": "code",
   "execution_count": null,
   "id": "1b78db2d",
   "metadata": {},
   "outputs": [],
   "source": []
  },
  {
   "cell_type": "markdown",
   "id": "d7af0a24",
   "metadata": {},
   "source": [
    "# 14. Create a Python program that calculates the sum of a series based on user input. The series to be summed is of the form 1 - 2 + 3 - 4 + 5 - 6 + ... up to n terms."
   ]
  },
  {
   "cell_type": "code",
   "execution_count": 11,
   "id": "e1ff0d8c",
   "metadata": {},
   "outputs": [
    {
     "name": "stdout",
     "output_type": "stream",
     "text": [
      "Enter a number3\n"
     ]
    },
    {
     "data": {
      "text/plain": [
       "2"
      ]
     },
     "execution_count": 11,
     "metadata": {},
     "output_type": "execute_result"
    }
   ],
   "source": [
    "num= int(input(\"Enter a number\"))\n",
    "sum=0\n",
    "\n",
    "for i in range(1,num+1):\n",
    "    if i%2 !=0:\n",
    "        sum=sum+i\n",
    "    else:\n",
    "        sum=sum-i\n",
    "sum"
   ]
  },
  {
   "cell_type": "code",
   "execution_count": null,
   "id": "ae4267c0",
   "metadata": {},
   "outputs": [],
   "source": []
  },
  {
   "cell_type": "code",
   "execution_count": null,
   "id": "6bd2849f",
   "metadata": {},
   "outputs": [],
   "source": []
  },
  {
   "cell_type": "markdown",
   "id": "db313bfe",
   "metadata": {},
   "source": [
    "# ------------------------------------Completed by Koushik Biswas----------------------------"
   ]
  },
  {
   "cell_type": "code",
   "execution_count": null,
   "id": "6c6ecf9b",
   "metadata": {},
   "outputs": [],
   "source": []
  }
 ],
 "metadata": {
  "kernelspec": {
   "display_name": "Python 3 (ipykernel)",
   "language": "python",
   "name": "python3"
  },
  "language_info": {
   "codemirror_mode": {
    "name": "ipython",
    "version": 3
   },
   "file_extension": ".py",
   "mimetype": "text/x-python",
   "name": "python",
   "nbconvert_exporter": "python",
   "pygments_lexer": "ipython3",
   "version": "3.11.5"
  }
 },
 "nbformat": 4,
 "nbformat_minor": 5
}
