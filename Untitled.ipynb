{
 "cells": [
  {
   "cell_type": "code",
   "execution_count": null,
   "id": "22ba47dd",
   "metadata": {},
   "outputs": [],
   "source": []
  },
  {
   "cell_type": "code",
   "execution_count": null,
   "id": "3eadfcc5",
   "metadata": {},
   "outputs": [],
   "source": []
  },
  {
   "cell_type": "code",
   "execution_count": null,
   "id": "64a8b2be",
   "metadata": {},
   "outputs": [],
   "source": []
  },
  {
   "cell_type": "code",
   "execution_count": null,
   "id": "a9278ec0",
   "metadata": {},
   "outputs": [],
   "source": []
  },
  {
   "cell_type": "markdown",
   "id": "9ae9cd01",
   "metadata": {},
   "source": [
    "# 4.\tConsider a given series, M1:\n",
    "\tMarks\n",
    "T1\t49\n",
    "T2\t55\n",
    "T3\t78\n",
    "T4\t33\n",
    "Write a program in Python Pandas to create the Series.\n"
   ]
  },
  {
   "cell_type": "code",
   "execution_count": 2,
   "id": "5697df7f",
   "metadata": {},
   "outputs": [],
   "source": [
    "import pandas as pd \n",
    "M1=pd.Series([49,55,78,33],index=['T1','T2','T3','T4'])\n",
    "M1.name='Marks'"
   ]
  },
  {
   "cell_type": "code",
   "execution_count": 3,
   "id": "af105e14",
   "metadata": {},
   "outputs": [
    {
     "data": {
      "text/plain": [
       "T1    49\n",
       "T2    55\n",
       "T3    78\n",
       "T4    33\n",
       "Name: Marks, dtype: int64"
      ]
     },
     "execution_count": 3,
     "metadata": {},
     "output_type": "execute_result"
    }
   ],
   "source": [
    "M1"
   ]
  },
  {
   "cell_type": "code",
   "execution_count": null,
   "id": "18bf7a18",
   "metadata": {},
   "outputs": [],
   "source": []
  },
  {
   "cell_type": "markdown",
   "id": "3c99384f",
   "metadata": {},
   "source": [
    "# 5.\tConsider the following Series object, \n",
    "IP\t95\n",
    "PHYSICS\t89\n",
    "CHEMISTRY\t92\n",
    "MATH\t95\n",
    "\n",
    "i. Write the Python syntax which will display only IP.\n",
    "ii. Write the Python syntax to increase marks of all subjects by 10.\n"
   ]
  },
  {
   "cell_type": "code",
   "execution_count": 4,
   "id": "46c76c30",
   "metadata": {},
   "outputs": [],
   "source": [
    "M2=pd.Series([95,89,92,95],index=['IP','PHYSICS','CHEMISTRY','MATH'])"
   ]
  },
  {
   "cell_type": "code",
   "execution_count": 5,
   "id": "b4a710a0",
   "metadata": {},
   "outputs": [
    {
     "data": {
      "text/plain": [
       "Index(['IP', 'PHYSICS', 'CHEMISTRY', 'MATH'], dtype='object')"
      ]
     },
     "execution_count": 5,
     "metadata": {},
     "output_type": "execute_result"
    }
   ],
   "source": [
    "M2.index"
   ]
  },
  {
   "cell_type": "code",
   "execution_count": 8,
   "id": "ea4f8ce6",
   "metadata": {},
   "outputs": [
    {
     "data": {
      "text/plain": [
       "IP           105\n",
       "PHYSICS       99\n",
       "CHEMISTRY    102\n",
       "MATH         105\n",
       "dtype: int64"
      ]
     },
     "execution_count": 8,
     "metadata": {},
     "output_type": "execute_result"
    }
   ],
   "source": [
    "M3=M2+10\n",
    "M3"
   ]
  },
  {
   "cell_type": "code",
   "execution_count": null,
   "id": "ddda9e1b",
   "metadata": {},
   "outputs": [],
   "source": []
  },
  {
   "cell_type": "markdown",
   "id": "3c5d2a2a",
   "metadata": {},
   "source": [
    "# 6.\tConsider a given series : SQTR\n",
    "QTR1 50000\n",
    "QTR2 65890\n",
    "QTR3 56780\n",
    "QTR4 89000\n",
    "QTR5 77900\n",
    "Write a program in Python Pandas to create and display the series.\n"
   ]
  },
  {
   "cell_type": "code",
   "execution_count": 11,
   "id": "ecc4b937",
   "metadata": {},
   "outputs": [],
   "source": [
    "SQTR=pd.Series([50000,65890,56780,89000,77900],index=['QTR1','QTR2','QTR3','QTR4','QTR5'])"
   ]
  },
  {
   "cell_type": "code",
   "execution_count": 12,
   "id": "265a7d73",
   "metadata": {},
   "outputs": [
    {
     "data": {
      "text/plain": [
       "QTR1    50000\n",
       "QTR2    65890\n",
       "QTR3    56780\n",
       "QTR4    89000\n",
       "QTR5    77900\n",
       "dtype: int64"
      ]
     },
     "execution_count": 12,
     "metadata": {},
     "output_type": "execute_result"
    }
   ],
   "source": [
    "SQTR"
   ]
  },
  {
   "cell_type": "code",
   "execution_count": 14,
   "id": "4b98172e",
   "metadata": {},
   "outputs": [
    {
     "name": "stdout",
     "output_type": "stream",
     "text": [
      "Object `program` not found.\n"
     ]
    }
   ],
   "source": [
    "7.\tWhat will be the output of the following program?\n",
    "import pandas as pd\n",
    "fst=[9,10,11]\n",
    "scd=pd.Series(fst)\n",
    "ob1=pd.Series(data=fst*2)\n",
    "ob2=pd.Series(data=scd*2)"
   ]
  },
  {
   "cell_type": "code",
   "execution_count": 15,
   "id": "6ac6be9a",
   "metadata": {},
   "outputs": [
    {
     "ename": "SyntaxError",
     "evalue": "invalid character '“' (U+201C) (4194051075.py, line 1)",
     "output_type": "error",
     "traceback": [
      "\u001b[1;36m  Cell \u001b[1;32mIn[15], line 1\u001b[1;36m\u001b[0m\n\u001b[1;33m    print(“ob1”)\u001b[0m\n\u001b[1;37m          ^\u001b[0m\n\u001b[1;31mSyntaxError\u001b[0m\u001b[1;31m:\u001b[0m invalid character '“' (U+201C)\n"
     ]
    }
   ],
   "source": [
    "print(“ob1”)"
   ]
  },
  {
   "cell_type": "code",
   "execution_count": 16,
   "id": "8b45f878",
   "metadata": {},
   "outputs": [
    {
     "name": "stdout",
     "output_type": "stream",
     "text": [
      "0     9\n",
      "1    10\n",
      "2    11\n",
      "3     9\n",
      "4    10\n",
      "5    11\n",
      "dtype: int64\n"
     ]
    }
   ],
   "source": [
    "print(ob1)"
   ]
  },
  {
   "cell_type": "code",
   "execution_count": 17,
   "id": "00c26985",
   "metadata": {},
   "outputs": [
    {
     "ename": "SyntaxError",
     "evalue": "invalid character '“' (U+201C) (1218805174.py, line 1)",
     "output_type": "error",
     "traceback": [
      "\u001b[1;36m  Cell \u001b[1;32mIn[17], line 1\u001b[1;36m\u001b[0m\n\u001b[1;33m    print(“ob2”)\u001b[0m\n\u001b[1;37m          ^\u001b[0m\n\u001b[1;31mSyntaxError\u001b[0m\u001b[1;31m:\u001b[0m invalid character '“' (U+201C)\n"
     ]
    }
   ],
   "source": [
    "print(“ob2”)"
   ]
  },
  {
   "cell_type": "code",
   "execution_count": 18,
   "id": "ef697fc9",
   "metadata": {},
   "outputs": [
    {
     "name": "stdout",
     "output_type": "stream",
     "text": [
      "0    18\n",
      "1    20\n",
      "2    22\n",
      "dtype: int64\n"
     ]
    }
   ],
   "source": [
    "print(ob2)"
   ]
  },
  {
   "cell_type": "code",
   "execution_count": null,
   "id": "b17b6b9d",
   "metadata": {},
   "outputs": [],
   "source": []
  },
  {
   "cell_type": "markdown",
   "id": "cf41313e",
   "metadata": {},
   "source": [
    "# 8.\tMake a Series. Write a program to calculate the cubes of the Series values."
   ]
  },
  {
   "cell_type": "code",
   "execution_count": 21,
   "id": "fcd33f86",
   "metadata": {},
   "outputs": [],
   "source": [
    "cube_series=pd.Series([0,1,2,3,4,5,6,7,8,9])"
   ]
  },
  {
   "cell_type": "code",
   "execution_count": 22,
   "id": "ca51b4fd",
   "metadata": {},
   "outputs": [
    {
     "data": {
      "text/plain": [
       "0    0\n",
       "1    1\n",
       "2    2\n",
       "3    3\n",
       "4    4\n",
       "5    5\n",
       "6    6\n",
       "7    7\n",
       "8    8\n",
       "9    9\n",
       "dtype: int64"
      ]
     },
     "execution_count": 22,
     "metadata": {},
     "output_type": "execute_result"
    }
   ],
   "source": [
    "cube_series"
   ]
  },
  {
   "cell_type": "code",
   "execution_count": 23,
   "id": "96588c05",
   "metadata": {},
   "outputs": [
    {
     "data": {
      "text/plain": [
       "0      0\n",
       "1      1\n",
       "2      8\n",
       "3     27\n",
       "4     64\n",
       "5    125\n",
       "6    216\n",
       "7    343\n",
       "8    512\n",
       "9    729\n",
       "dtype: int64"
      ]
     },
     "execution_count": 23,
     "metadata": {},
     "output_type": "execute_result"
    }
   ],
   "source": [
    "cube_series**3"
   ]
  },
  {
   "cell_type": "code",
   "execution_count": null,
   "id": "a817fea3",
   "metadata": {},
   "outputs": [],
   "source": []
  },
  {
   "cell_type": "markdown",
   "id": "5240fa0f",
   "metadata": {},
   "source": [
    "# 9.\tMake a Series. Write a program to store the squares of the Series values in another series object. Display the second series value, which values are more than 15."
   ]
  },
  {
   "cell_type": "code",
   "execution_count": 24,
   "id": "ec3befaa",
   "metadata": {},
   "outputs": [],
   "source": [
    "series=pd.Series([0,1,2,3,4,5,6,7,8,9])"
   ]
  },
  {
   "cell_type": "code",
   "execution_count": 25,
   "id": "e66709a8",
   "metadata": {},
   "outputs": [
    {
     "data": {
      "text/plain": [
       "0     0\n",
       "1     1\n",
       "2     4\n",
       "3     9\n",
       "4    16\n",
       "5    25\n",
       "6    36\n",
       "7    49\n",
       "8    64\n",
       "9    81\n",
       "dtype: int64"
      ]
     },
     "execution_count": 25,
     "metadata": {},
     "output_type": "execute_result"
    }
   ],
   "source": [
    "square_series=series**2\n",
    "square_series"
   ]
  },
  {
   "cell_type": "code",
   "execution_count": 30,
   "id": "f85d8503",
   "metadata": {},
   "outputs": [
    {
     "data": {
      "text/plain": [
       "4    16\n",
       "5    25\n",
       "6    36\n",
       "7    49\n",
       "8    64\n",
       "9    81\n",
       "dtype: int64"
      ]
     },
     "execution_count": 30,
     "metadata": {},
     "output_type": "execute_result"
    }
   ],
   "source": [
    "square_series[square_series>15]"
   ]
  },
  {
   "cell_type": "markdown",
   "id": "45b37884",
   "metadata": {},
   "source": [
    "# 10.\tConsider you have a following series:\n",
    "a\t0\n",
    "b\t1\n",
    "c\t2\n",
    "d\t3\n",
    "e\t4\n",
    "    \t..\n",
    "\t..\n",
    "z\t25\n"
   ]
  },
  {
   "cell_type": "code",
   "execution_count": 31,
   "id": "465dd56b",
   "metadata": {},
   "outputs": [],
   "source": [
    "x='abcdefghijklmnopqrstuvwxyz'\n",
    "alpha=[]\n",
    "for i in x:\n",
    "    alpha.append(i)"
   ]
  },
  {
   "cell_type": "code",
   "execution_count": 32,
   "id": "e634d69c",
   "metadata": {},
   "outputs": [
    {
     "data": {
      "text/plain": [
       "['a',\n",
       " 'b',\n",
       " 'c',\n",
       " 'd',\n",
       " 'e',\n",
       " 'f',\n",
       " 'g',\n",
       " 'h',\n",
       " 'i',\n",
       " 'j',\n",
       " 'k',\n",
       " 'l',\n",
       " 'm',\n",
       " 'n',\n",
       " 'o',\n",
       " 'p',\n",
       " 'q',\n",
       " 'r',\n",
       " 's',\n",
       " 't',\n",
       " 'u',\n",
       " 'v',\n",
       " 'w',\n",
       " 'x',\n",
       " 'y',\n",
       " 'z']"
      ]
     },
     "execution_count": 32,
     "metadata": {},
     "output_type": "execute_result"
    }
   ],
   "source": [
    "alpha"
   ]
  },
  {
   "cell_type": "code",
   "execution_count": 33,
   "id": "adb95ae1",
   "metadata": {},
   "outputs": [],
   "source": [
    "ser1=pd.Series(alpha)"
   ]
  },
  {
   "cell_type": "code",
   "execution_count": 34,
   "id": "c21cb886",
   "metadata": {},
   "outputs": [
    {
     "data": {
      "text/plain": [
       "0     a\n",
       "1     b\n",
       "2     c\n",
       "3     d\n",
       "4     e\n",
       "5     f\n",
       "6     g\n",
       "7     h\n",
       "8     i\n",
       "9     j\n",
       "10    k\n",
       "11    l\n",
       "12    m\n",
       "13    n\n",
       "14    o\n",
       "15    p\n",
       "16    q\n",
       "17    r\n",
       "18    s\n",
       "19    t\n",
       "20    u\n",
       "21    v\n",
       "22    w\n",
       "23    x\n",
       "24    y\n",
       "25    z\n",
       "dtype: object"
      ]
     },
     "execution_count": 34,
     "metadata": {},
     "output_type": "execute_result"
    }
   ],
   "source": [
    "ser1"
   ]
  },
  {
   "cell_type": "markdown",
   "id": "d1f5da20",
   "metadata": {},
   "source": [
    "#### a.\tSet all the values of vowels to 10 and display the Series."
   ]
  },
  {
   "cell_type": "code",
   "execution_count": 41,
   "id": "36991054",
   "metadata": {},
   "outputs": [],
   "source": [
    "list1=['a','e','i','o','u']\n",
    "for i in list1:\n",
    "    ser1[ser1==i]=10"
   ]
  },
  {
   "cell_type": "code",
   "execution_count": 42,
   "id": "4559fb03",
   "metadata": {},
   "outputs": [
    {
     "data": {
      "text/plain": [
       "0     10\n",
       "1      b\n",
       "2      c\n",
       "3      d\n",
       "4     10\n",
       "5      f\n",
       "6      g\n",
       "7      h\n",
       "8     10\n",
       "9      j\n",
       "10     k\n",
       "11     l\n",
       "12     m\n",
       "13     n\n",
       "14    10\n",
       "15     p\n",
       "16     q\n",
       "17     r\n",
       "18     s\n",
       "19     t\n",
       "20    10\n",
       "21     v\n",
       "22     w\n",
       "23     x\n",
       "24     y\n",
       "25     z\n",
       "dtype: object"
      ]
     },
     "execution_count": 42,
     "metadata": {},
     "output_type": "execute_result"
    }
   ],
   "source": [
    "ser1"
   ]
  },
  {
   "cell_type": "code",
   "execution_count": null,
   "id": "5f59b07a",
   "metadata": {},
   "outputs": [],
   "source": []
  },
  {
   "cell_type": "markdown",
   "id": "72b25f93",
   "metadata": {},
   "source": [
    "#### b.\tDivide all values of vowels by 2 and display the Series."
   ]
  },
  {
   "cell_type": "code",
   "execution_count": 43,
   "id": "7d180488",
   "metadata": {},
   "outputs": [],
   "source": [
    "ser1[ser1==10]=ser1[ser1==10]/2"
   ]
  },
  {
   "cell_type": "code",
   "execution_count": 44,
   "id": "eba2f3de",
   "metadata": {},
   "outputs": [
    {
     "data": {
      "text/plain": [
       "0     5.0\n",
       "1       b\n",
       "2       c\n",
       "3       d\n",
       "4     5.0\n",
       "5       f\n",
       "6       g\n",
       "7       h\n",
       "8     5.0\n",
       "9       j\n",
       "10      k\n",
       "11      l\n",
       "12      m\n",
       "13      n\n",
       "14    5.0\n",
       "15      p\n",
       "16      q\n",
       "17      r\n",
       "18      s\n",
       "19      t\n",
       "20    5.0\n",
       "21      v\n",
       "22      w\n",
       "23      x\n",
       "24      y\n",
       "25      z\n",
       "dtype: object"
      ]
     },
     "execution_count": 44,
     "metadata": {},
     "output_type": "execute_result"
    }
   ],
   "source": [
    "ser1"
   ]
  },
  {
   "cell_type": "code",
   "execution_count": null,
   "id": "d37e3a06",
   "metadata": {},
   "outputs": [],
   "source": []
  },
  {
   "cell_type": "markdown",
   "id": "c4b40b15",
   "metadata": {},
   "source": [
    "#### c.\tCreate another series vowel1 having 5 elements with index labels ‘a’,’e’,’i’,’o’,’u’ having values [2,5,6,3,8] respectively."
   ]
  },
  {
   "cell_type": "code",
   "execution_count": 59,
   "id": "c77139f6",
   "metadata": {},
   "outputs": [],
   "source": [
    "vowels1=pd.Series([2,5,6,3,8], index = ['a','e','i','o','u'])"
   ]
  },
  {
   "cell_type": "code",
   "execution_count": 60,
   "id": "00eb7d5e",
   "metadata": {},
   "outputs": [
    {
     "data": {
      "text/plain": [
       "a    2\n",
       "e    5\n",
       "i    6\n",
       "o    3\n",
       "u    8\n",
       "dtype: int64"
      ]
     },
     "execution_count": 60,
     "metadata": {},
     "output_type": "execute_result"
    }
   ],
   "source": [
    "vowels1"
   ]
  },
  {
   "cell_type": "markdown",
   "id": "e6212a96",
   "metadata": {},
   "source": [
    "#### d.\tAdd vowels and vowels1  and assign the result to vowel3."
   ]
  },
  {
   "cell_type": "code",
   "execution_count": 61,
   "id": "4b7f0301",
   "metadata": {},
   "outputs": [],
   "source": [
    "vowels=ser1[ser1==5]"
   ]
  },
  {
   "cell_type": "code",
   "execution_count": 62,
   "id": "a8bf0600",
   "metadata": {},
   "outputs": [],
   "source": [
    "vowels.index=['a','e','i','o','u']"
   ]
  },
  {
   "cell_type": "code",
   "execution_count": 63,
   "id": "33deb115",
   "metadata": {},
   "outputs": [
    {
     "data": {
      "text/plain": [
       "a    5.0\n",
       "e    5.0\n",
       "i    5.0\n",
       "o    5.0\n",
       "u    5.0\n",
       "dtype: object"
      ]
     },
     "execution_count": 63,
     "metadata": {},
     "output_type": "execute_result"
    }
   ],
   "source": [
    "vowels"
   ]
  },
  {
   "cell_type": "code",
   "execution_count": 64,
   "id": "986e49a9",
   "metadata": {},
   "outputs": [
    {
     "data": {
      "text/plain": [
       "a     7.0\n",
       "e    10.0\n",
       "i    11.0\n",
       "o     8.0\n",
       "u    13.0\n",
       "dtype: object"
      ]
     },
     "execution_count": 64,
     "metadata": {},
     "output_type": "execute_result"
    }
   ],
   "source": [
    "vowel3=vowel+vowel1\n",
    "vowel3"
   ]
  },
  {
   "cell_type": "markdown",
   "id": "e3ce4009",
   "metadata": {},
   "source": [
    "#### e.\tSubtract, Multiply, and divide vowels by vowels1"
   ]
  },
  {
   "cell_type": "code",
   "execution_count": 65,
   "id": "c6565d5c",
   "metadata": {},
   "outputs": [
    {
     "name": "stdout",
     "output_type": "stream",
     "text": [
      "a     7.0\n",
      "e    10.0\n",
      "i    11.0\n",
      "o     8.0\n",
      "u    13.0\n",
      "dtype: object\n",
      "a    10.0\n",
      "e    25.0\n",
      "i    30.0\n",
      "o    15.0\n",
      "u    40.0\n",
      "dtype: object\n",
      "a         2.5\n",
      "e         1.0\n",
      "i    0.833333\n",
      "o    1.666667\n",
      "u       0.625\n",
      "dtype: object\n"
     ]
    }
   ],
   "source": [
    "print(vowels+vowels1)\n",
    "print(vowels*vowels1)\n",
    "print(vowels/vowels1)"
   ]
  },
  {
   "cell_type": "markdown",
   "id": "a7032edd",
   "metadata": {},
   "source": [
    "#### f.\tAlter the labels of vowels1 to [‘A’,’E’,’I’,’O’,’U’]."
   ]
  },
  {
   "cell_type": "code",
   "execution_count": 67,
   "id": "742b086f",
   "metadata": {},
   "outputs": [],
   "source": [
    "vowels1=['A','E','I','O','U']"
   ]
  },
  {
   "cell_type": "code",
   "execution_count": 68,
   "id": "6e28e31b",
   "metadata": {},
   "outputs": [
    {
     "data": {
      "text/plain": [
       "['A', 'E', 'I', 'O', 'U']"
      ]
     },
     "execution_count": 68,
     "metadata": {},
     "output_type": "execute_result"
    }
   ],
   "source": [
    "vowels1"
   ]
  },
  {
   "cell_type": "code",
   "execution_count": null,
   "id": "29c813f3",
   "metadata": {},
   "outputs": [],
   "source": []
  },
  {
   "cell_type": "code",
   "execution_count": null,
   "id": "46413bb0",
   "metadata": {},
   "outputs": [],
   "source": []
  },
  {
   "cell_type": "code",
   "execution_count": null,
   "id": "376d4778",
   "metadata": {},
   "outputs": [],
   "source": []
  },
  {
   "cell_type": "code",
   "execution_count": null,
   "id": "7c02c5de",
   "metadata": {},
   "outputs": [],
   "source": []
  },
  {
   "cell_type": "code",
   "execution_count": null,
   "id": "b3bf3019",
   "metadata": {},
   "outputs": [],
   "source": []
  },
  {
   "cell_type": "code",
   "execution_count": null,
   "id": "7a7fe396",
   "metadata": {},
   "outputs": [],
   "source": []
  },
  {
   "cell_type": "code",
   "execution_count": null,
   "id": "6b3ae941",
   "metadata": {},
   "outputs": [],
   "source": []
  }
 ],
 "metadata": {
  "kernelspec": {
   "display_name": "Python 3 (ipykernel)",
   "language": "python",
   "name": "python3"
  },
  "language_info": {
   "codemirror_mode": {
    "name": "ipython",
    "version": 3
   },
   "file_extension": ".py",
   "mimetype": "text/x-python",
   "name": "python",
   "nbconvert_exporter": "python",
   "pygments_lexer": "ipython3",
   "version": "3.11.5"
  }
 },
 "nbformat": 4,
 "nbformat_minor": 5
}
