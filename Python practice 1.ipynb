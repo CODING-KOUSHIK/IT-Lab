{
 "cells": [
  {
   "cell_type": "markdown",
   "id": "39f013ab",
   "metadata": {},
   "source": [
    "# 1. Write a program to check if a given number is positive, negative, or zero."
   ]
  },
  {
   "cell_type": "code",
   "execution_count": 2,
   "id": "51896db0",
   "metadata": {},
   "outputs": [
    {
     "name": "stdout",
     "output_type": "stream",
     "text": [
      "please enter a number5\n",
      "5.0 The number is positive\n"
     ]
    }
   ],
   "source": [
    "num = float(input(\"please enter a number\"))\n",
    "if num > 0:\n",
    "    print(num, \"The number is positive\")\n",
    "    \n",
    "elif num == 0:\n",
    "    print(\"you entered zero\")\n",
    "    \n",
    "else:\n",
    "    print(num, \"The number is negative\")"
   ]
  },
  {
   "cell_type": "markdown",
   "id": "5ffd7cd7",
   "metadata": {},
   "source": [
    "# 2. Create a script that determines whether a user-inputted year is a leap year."
   ]
  },
  {
   "cell_type": "code",
   "execution_count": 5,
   "id": "3220566a",
   "metadata": {},
   "outputs": [
    {
     "name": "stdout",
     "output_type": "stream",
     "text": [
      "Enter the year1700\n",
      "Entered year is not a leap year\n"
     ]
    }
   ],
   "source": [
    "year= int(input(\"Enter the year\"))\n",
    "if ((year%400 ==0) or (year%100!=0 and year%4 == 0)):\n",
    "    print(\"Entered year is a leap year\")\n",
    "    \n",
    "else:\n",
    "    print(\"Entered year is not a leap year\")"
   ]
  },
  {
   "cell_type": "markdown",
   "id": "7474f8ee",
   "metadata": {},
   "source": [
    "# 3. Implement a function that takes two numbers as input and returns the larger one."
   ]
  },
  {
   "cell_type": "code",
   "execution_count": 38,
   "id": "a5d00af2",
   "metadata": {},
   "outputs": [],
   "source": [
    "def max_fun(num1,num2):\n",
    "    if num1> num2:\n",
    "        print(num1)\n",
    "\n",
    "    elif num1 == num2:\n",
    "        print(\"Both are same\")\n",
    "\n",
    "    else:\n",
    "        print(num2)\n",
    "        "
   ]
  },
  {
   "cell_type": "code",
   "execution_count": 39,
   "id": "752f2df4",
   "metadata": {},
   "outputs": [
    {
     "name": "stdout",
     "output_type": "stream",
     "text": [
      "45\n"
     ]
    }
   ],
   "source": [
    "max_fun(45,34)"
   ]
  },
  {
   "cell_type": "markdown",
   "id": "da2a6163",
   "metadata": {},
   "source": [
    "# 4. Write a program that classifies a triangle based on its sides' lengths (equilateral, isosceles, or scalene)."
   ]
  },
  {
   "cell_type": "code",
   "execution_count": 8,
   "id": "0c566427",
   "metadata": {},
   "outputs": [
    {
     "name": "stdout",
     "output_type": "stream",
     "text": [
      "please enter first side of the traingle10\n",
      "please enter second side of the traingle10\n",
      "please enter third side of the traingle23\n",
      "Isosceles Traingle\n"
     ]
    }
   ],
   "source": [
    "num1 = float(input(\"please enter first side of the traingle\"))\n",
    "num2 = float(input(\"please enter second side of the traingle\"))\n",
    "num3 = float(input(\"please enter third side of the traingle\"))\n",
    "\n",
    "if num1== num2==num3:\n",
    "    print(\"Equilaterl traingle\")\n",
    "    \n",
    "elif ((num1 == num2 != num3) or (num1 != num2 == num3) or (num1 == num3 != num1) ):\n",
    "    print(\"Isosceles Traingle\")\n",
    "    \n",
    "else:\n",
    "    print(\"scalene traingle\")"
   ]
  },
  {
   "cell_type": "markdown",
   "id": "a2d81a7c",
   "metadata": {},
   "source": [
    "# 5. Develop a script that checks if a given string is a palindrome."
   ]
  },
  {
   "cell_type": "code",
   "execution_count": 21,
   "id": "8abeed24",
   "metadata": {},
   "outputs": [
    {
     "name": "stdout",
     "output_type": "stream",
     "text": [
      "Enter a numberabccba\n",
      "The number is palindrome\n"
     ]
    }
   ],
   "source": [
    "num=(input(\"Enter a number\"))\n",
    "\n",
    "if num[: :]== num[: : -1]:\n",
    "    print(\"The number is palindrome\")\n",
    "    \n",
    "else:\n",
    "    print(\"Given number is not a palindrome\")"
   ]
  },
  {
   "cell_type": "code",
   "execution_count": null,
   "id": "4516f575",
   "metadata": {},
   "outputs": [],
   "source": []
  },
  {
   "cell_type": "markdown",
   "id": "129916ee",
   "metadata": {},
   "source": [
    "# 6. Create a program to calculate the sum of all numbers from 1 to 100 using a for loop."
   ]
  },
  {
   "cell_type": "code",
   "execution_count": 3,
   "id": "abaf02e5",
   "metadata": {},
   "outputs": [
    {
     "name": "stdout",
     "output_type": "stream",
     "text": [
      "give me the upper limit to calculate sum100\n",
      "5050\n"
     ]
    }
   ],
   "source": [
    "num=int(input(\"give me the upper limit to calculate sum = \"))\n",
    "sum=0\n",
    "\n",
    "for i in range(num+1):\n",
    "    sum=sum + i\n",
    "print(sum)"
   ]
  },
  {
   "cell_type": "code",
   "execution_count": null,
   "id": "7a3b9612",
   "metadata": {},
   "outputs": [],
   "source": []
  },
  {
   "cell_type": "markdown",
   "id": "1429b9c4",
   "metadata": {},
   "source": [
    "# 7. Write a script to find the factorial of a given number using a for loop."
   ]
  },
  {
   "cell_type": "code",
   "execution_count": 4,
   "id": "a1509f82",
   "metadata": {},
   "outputs": [
    {
     "name": "stdout",
     "output_type": "stream",
     "text": [
      "Enter that number which you have to calculate factorial5\n",
      "120\n"
     ]
    }
   ],
   "source": [
    "num = int(input(\"Enter that number which you have to calculate factorial = \"))\n",
    "\n",
    "fact=1\n",
    "\n",
    "for i in range(1, num+1):\n",
    "    fact=fact*i\n",
    "    \n",
    "print(fact)"
   ]
  },
  {
   "cell_type": "code",
   "execution_count": null,
   "id": "7e42695b",
   "metadata": {},
   "outputs": [],
   "source": []
  },
  {
   "cell_type": "markdown",
   "id": "f6cebb9a",
   "metadata": {},
   "source": [
    "# 8. Implement a program that prints the Fibonacci sequence up to a specified number using a for loop."
   ]
  },
  {
   "cell_type": "code",
   "execution_count": 3,
   "id": "87ac5cfc",
   "metadata": {},
   "outputs": [
    {
     "name": "stdout",
     "output_type": "stream",
     "text": [
      "please enter a number10\n",
      "1\n",
      "2\n",
      "3\n",
      "5\n",
      "8\n",
      "13\n",
      "21\n",
      "34\n",
      "55\n",
      "89\n"
     ]
    }
   ],
   "source": [
    "num= int(input(\"please enter a number\"))\n",
    "\n",
    "m=0\n",
    "n=1\n",
    "for i in range(num):\n",
    "    x=m+n\n",
    "    print(x) \n",
    "    m=n\n",
    "    n=x\n",
    " "
   ]
  },
  {
   "cell_type": "code",
   "execution_count": null,
   "id": "1dded2ff",
   "metadata": {},
   "outputs": [],
   "source": []
  },
  {
   "cell_type": "code",
   "execution_count": null,
   "id": "a23bfe3e",
   "metadata": {},
   "outputs": [],
   "source": []
  },
  {
   "cell_type": "markdown",
   "id": "08b60088",
   "metadata": {},
   "source": [
    "# 9. Write a function that takes a list of numbers and returns the sum of even numbers."
   ]
  },
  {
   "cell_type": "code",
   "execution_count": 16,
   "id": "f2df54fa",
   "metadata": {},
   "outputs": [],
   "source": [
    "def even_sum(num):\n",
    "    sum=0\n",
    "    for i in range(num):\n",
    "        if i%2==0:\n",
    "            sum=sum+i\n",
    "    print(sum)"
   ]
  },
  {
   "cell_type": "code",
   "execution_count": 18,
   "id": "cb65496a",
   "metadata": {},
   "outputs": [
    {
     "name": "stdout",
     "output_type": "stream",
     "text": [
      "2450\n"
     ]
    }
   ],
   "source": [
    "even_sum(100)"
   ]
  },
  {
   "cell_type": "markdown",
   "id": "23d24e78",
   "metadata": {},
   "source": [
    "# 10. Develop a script to print a multiplication table for a given number using a for loop."
   ]
  },
  {
   "cell_type": "code",
   "execution_count": 22,
   "id": "d36c464c",
   "metadata": {},
   "outputs": [
    {
     "name": "stdout",
     "output_type": "stream",
     "text": [
      "Enter a number = 10\n",
      "10  *  1  =  10\n",
      "10  *  2  =  20\n",
      "10  *  3  =  30\n",
      "10  *  4  =  40\n",
      "10  *  5  =  50\n",
      "10  *  6  =  60\n",
      "10  *  7  =  70\n",
      "10  *  8  =  80\n",
      "10  *  9  =  90\n",
      "10  *  10  =  100\n"
     ]
    }
   ],
   "source": [
    "num=int(input(\"Enter a number = \"))\n",
    "\n",
    "for i in range(1,11):\n",
    "    print(num, \" * \", i, \" = \", num*i)"
   ]
  },
  {
   "cell_type": "code",
   "execution_count": null,
   "id": "476a6b07",
   "metadata": {},
   "outputs": [],
   "source": []
  },
  {
   "cell_type": "markdown",
   "id": "c7475d0f",
   "metadata": {},
   "source": [
    "# 11. Create a guessing game where the user has to guess a number between 1 and 10 using a while loop."
   ]
  },
  {
   "cell_type": "code",
   "execution_count": 4,
   "id": "b8d51285",
   "metadata": {},
   "outputs": [
    {
     "name": "stdout",
     "output_type": "stream",
     "text": [
      "please enter a number10\n",
      "1\n",
      "2\n",
      "3\n",
      "5\n",
      "8\n",
      "13\n",
      "21\n",
      "34\n",
      "55\n",
      "89\n"
     ]
    }
   ],
   "source": []
  },
  {
   "cell_type": "code",
   "execution_count": null,
   "id": "d8d83b51",
   "metadata": {},
   "outputs": [],
   "source": []
  },
  {
   "cell_type": "code",
   "execution_count": null,
   "id": "6005d662",
   "metadata": {},
   "outputs": [],
   "source": []
  },
  {
   "cell_type": "markdown",
   "id": "6042ed8e",
   "metadata": {},
   "source": [
    "# 12. Write a script that calculates the factorial of a given number using a while loop."
   ]
  },
  {
   "cell_type": "code",
   "execution_count": 25,
   "id": "325aada7",
   "metadata": {},
   "outputs": [
    {
     "name": "stdout",
     "output_type": "stream",
     "text": [
      "Enter a number = 5\n",
      "120\n"
     ]
    }
   ],
   "source": [
    "num=int(input(\"Enter a number = \"))\n",
    "\n",
    "x=1\n",
    "fact=1\n",
    "\n",
    "while x<num+1:\n",
    "    fact=fact*x\n",
    "    x=x+1\n",
    "print(fact)"
   ]
  },
  {
   "cell_type": "markdown",
   "id": "c0ba376e",
   "metadata": {},
   "source": [
    "# 13. Implement a program that finds the square root of a number using a while loop."
   ]
  },
  {
   "cell_type": "code",
   "execution_count": 29,
   "id": "296e1e91",
   "metadata": {},
   "outputs": [
    {
     "name": "stdout",
     "output_type": "stream",
     "text": [
      "Enter a number = 25\n",
      "The square root of  25 is =  5\n"
     ]
    }
   ],
   "source": [
    "num=int(input(\"Enter a number = \"))\n",
    "x=1\n",
    "\n",
    "while x*x!=num:\n",
    "    x=x+1\n",
    "    if x>num:\n",
    "        print(\"No integer square root availavle for the given number : \", num)\n",
    "        break\n",
    "        \n",
    "    \n",
    "print(\"The square root of \", num ,'is = ', x)"
   ]
  },
  {
   "cell_type": "code",
   "execution_count": null,
   "id": "e930668b",
   "metadata": {},
   "outputs": [],
   "source": []
  },
  {
   "cell_type": "markdown",
   "id": "24577d53",
   "metadata": {},
   "source": [
    "# 14. Create a simple calculator that performs addition, subtraction, multiplication, and division using a while loop."
   ]
  },
  {
   "cell_type": "code",
   "execution_count": null,
   "id": "55e1acca",
   "metadata": {},
   "outputs": [],
   "source": []
  },
  {
   "cell_type": "code",
   "execution_count": null,
   "id": "3397328f",
   "metadata": {},
   "outputs": [],
   "source": []
  },
  {
   "cell_type": "markdown",
   "id": "3ccf1195",
   "metadata": {},
   "source": [
    "# 15. Write a script that prints the first N terms of the Fibonacci sequence using a while loop."
   ]
  },
  {
   "cell_type": "code",
   "execution_count": 5,
   "id": "523b2468",
   "metadata": {},
   "outputs": [
    {
     "name": "stdout",
     "output_type": "stream",
     "text": [
      "please enter a number10\n",
      "1\n",
      "2\n",
      "3\n",
      "5\n",
      "8\n",
      "13\n",
      "21\n",
      "34\n",
      "55\n",
      "89\n"
     ]
    }
   ],
   "source": [
    "num= int(input(\"please enter a number\"))\n",
    "\n",
    "m=0\n",
    "n=1\n",
    "i=0\n",
    "while i<10:\n",
    "    x=m+n\n",
    "    print(x) \n",
    "    m=n\n",
    "    n=x\n",
    "    i=i+1"
   ]
  },
  {
   "cell_type": "code",
   "execution_count": null,
   "id": "e81fb908",
   "metadata": {},
   "outputs": [],
   "source": []
  },
  {
   "cell_type": "code",
   "execution_count": null,
   "id": "2862d315",
   "metadata": {},
   "outputs": [],
   "source": []
  },
  {
   "cell_type": "markdown",
   "id": "b8d45785",
   "metadata": {},
   "source": [
    "# 16. Develop a program to find the prime numbers between 1 and 50 using a for loop and break."
   ]
  },
  {
   "cell_type": "code",
   "execution_count": 30,
   "id": "f4a98fed",
   "metadata": {},
   "outputs": [
    {
     "name": "stdout",
     "output_type": "stream",
     "text": [
      "[1, 2, 3, 5, 7, 11, 13, 17, 19, 23, 29, 31, 37, 41, 43, 47]\n"
     ]
    }
   ],
   "source": [
    "num=50\n",
    "prime_list=[1]\n",
    "\n",
    "for i in range(1,num+1):\n",
    "    m=0\n",
    "    for j in range(1,i+1):\n",
    "        if i%j==0:\n",
    "            m+=1\n",
    "    if m==2:\n",
    "        prime_list.append(i)\n",
    "                \n",
    "            \n",
    "            \n",
    "print(prime_list)"
   ]
  },
  {
   "cell_type": "code",
   "execution_count": null,
   "id": "45a2273c",
   "metadata": {},
   "outputs": [],
   "source": []
  },
  {
   "cell_type": "markdown",
   "id": "37074be3",
   "metadata": {},
   "source": [
    "# 17. Write a script that skips even numbers in a range and prints only odd numbers using continue."
   ]
  },
  {
   "cell_type": "code",
   "execution_count": 31,
   "id": "65d8d7b7",
   "metadata": {},
   "outputs": [
    {
     "name": "stdout",
     "output_type": "stream",
     "text": [
      "please enter a range50\n",
      "1\n",
      "3\n",
      "5\n",
      "7\n",
      "9\n",
      "11\n",
      "13\n",
      "15\n",
      "17\n",
      "19\n",
      "21\n",
      "23\n",
      "25\n",
      "27\n",
      "29\n",
      "31\n",
      "33\n",
      "35\n",
      "37\n",
      "39\n",
      "41\n",
      "43\n",
      "45\n",
      "47\n",
      "49\n"
     ]
    }
   ],
   "source": [
    "num= int(input(\"please enter a range\"))\n",
    "\n",
    "for i in range(num):\n",
    "    if i%2!=0:\n",
    "        print(i)"
   ]
  },
  {
   "cell_type": "markdown",
   "id": "e65d6e30",
   "metadata": {},
   "source": [
    "# 18. Implement a program that checks if a given number is a perfect square using break and else."
   ]
  },
  {
   "cell_type": "code",
   "execution_count": 34,
   "id": "ec64c46f",
   "metadata": {},
   "outputs": [
    {
     "name": "stdout",
     "output_type": "stream",
     "text": [
      "Enter a number10\n",
      "No perfect square found\n"
     ]
    }
   ],
   "source": [
    "x=int(input(\"Enter a number\"))\n",
    "\n",
    "for i in range(1, x):\n",
    "    if i*i==x:\n",
    "        print(\"The squar root of x =\", i)\n",
    "        break\n",
    "\n",
    "print(\"No perfect square found\")"
   ]
  },
  {
   "cell_type": "code",
   "execution_count": null,
   "id": "310502e2",
   "metadata": {},
   "outputs": [],
   "source": []
  },
  {
   "cell_type": "markdown",
   "id": "f40da9d6",
   "metadata": {},
   "source": [
    "# 19. Create a loop that iterates through a list of numbers, and if a negative number is encountered, terminate the loop using break."
   ]
  },
  {
   "cell_type": "code",
   "execution_count": 35,
   "id": "5c6d1e87",
   "metadata": {},
   "outputs": [
    {
     "name": "stdout",
     "output_type": "stream",
     "text": [
      "-4 is a negative number\n"
     ]
    }
   ],
   "source": [
    "list=[1,25,75,45,96,45,-4,25,74,12,44]\n",
    "for i in list:\n",
    "    if i<0:\n",
    "        print(i, \"is a negative number \")\n",
    "        break"
   ]
  },
  {
   "cell_type": "code",
   "execution_count": null,
   "id": "df09f57b",
   "metadata": {},
   "outputs": [],
   "source": []
  },
  {
   "cell_type": "markdown",
   "id": "f21b6013",
   "metadata": {},
   "source": [
    "# 20. Write a program to find and print the factors of a given number using pass for non-factors."
   ]
  },
  {
   "cell_type": "code",
   "execution_count": null,
   "id": "30767b3d",
   "metadata": {},
   "outputs": [],
   "source": []
  },
  {
   "cell_type": "code",
   "execution_count": null,
   "id": "024d857c",
   "metadata": {},
   "outputs": [],
   "source": []
  },
  {
   "cell_type": "code",
   "execution_count": 13,
   "id": "8a761503",
   "metadata": {},
   "outputs": [
    {
     "name": "stdout",
     "output_type": "stream",
     "text": [
      "please enter a number = -2\n",
      "The number is negative\n",
      "Enter another number = -4\n",
      "The first input  -2.0 is greater than  -4.0\n"
     ]
    }
   ],
   "source": [
    "n=float(input(\"please enter a number = \"))\n",
    "\n",
    "if n==0:\n",
    "    print(\"Number = 0\")\n",
    "    \n",
    "elif n<0:\n",
    "    print(\"The number is negative\")\n",
    "    \n",
    "    n2=float(input(\"Enter another number = \"))\n",
    "    if n>n2:\n",
    "        print(\"The first input \", n ,\"is greater than \", n2)\n",
    "        \n",
    "    elif n==n2:\n",
    "        print(\"both number is equal\")\n",
    "        \n",
    "    else:\n",
    "        print(\"The second input \", n2, \"is greater than \", n)\n",
    "    \n",
    "    \n",
    "else:\n",
    "    print(\"The number is posetive\")\n",
    "    n2=float(input(\"Enter another number = \"))\n",
    "    if n>n2:\n",
    "        print(\"The first input \", n ,\"is greater than \", n2)\n",
    "        \n",
    "    elif n==n2:\n",
    "        print(\"both number is equal\")\n",
    "        \n",
    "    else:\n",
    "        print(\"The second input \", n2, \"is greater than \", n)"
   ]
  },
  {
   "cell_type": "code",
   "execution_count": null,
   "id": "257cff7d",
   "metadata": {},
   "outputs": [],
   "source": []
  },
  {
   "cell_type": "markdown",
   "id": "3031dec8",
   "metadata": {},
   "source": [
    "# wap to take 2 no and check both are odd or even if a no is odd and another no is even recheck the numbers those are divide by 5 or not\n",
    "#  if both are odd then find the difference between both number \n",
    "# if both are even  then find min no between them\n",
    "# and finally first 1 is even and 2nd is odd then recheck the no those are divided by 4 or not"
   ]
  },
  {
   "cell_type": "code",
   "execution_count": 15,
   "id": "299adeb0",
   "metadata": {},
   "outputs": [
    {
     "name": "stdout",
     "output_type": "stream",
     "text": [
      "first number = 9\n",
      "second number = 11\n",
      "The difference between two odd numbers =  2\n"
     ]
    }
   ],
   "source": [
    "n1=int(input(\"first number = \"))\n",
    "n2=int(input(\"second number = \"))\n",
    "\n",
    "if n1%2==0 and n2%2==0:\n",
    "    if n1>n2:\n",
    "        print(n2, \" is minimum\")\n",
    "        \n",
    "    elif(n1<n2):\n",
    "        print(n2, \" is minimum\")\n",
    "        \n",
    "    else:\n",
    "        print(n1, ',', n2, \"both are same\")\n",
    "        \n",
    "elif n1%2==1 and n2%2 ==1:\n",
    "    diff=n1-n2\n",
    "    if diff<0:\n",
    "        print(\"The difference between two odd numbers = \", diff*(-1))\n",
    "        \n",
    "    else:\n",
    "        print(\"The difference between two odd numbers = \", diff)\n",
    "        \n",
    "elif n1%2==0 and n2%2 == 1:\n",
    "    print(\"since second no is odd, is not possible to divide by 4\")\n",
    "    \n",
    "    if n1%4 == 0:\n",
    "        print(\"The first no is divisible by 4\")\n",
    "        \n",
    "    elif n1%4 !=0:\n",
    "        print(\"The first no is also not divisible by 4\")\n",
    "        \n",
    "    elif n1%5==0 and n2%5==0:\n",
    "        print(\"Both no is divisible by 5\")\n",
    "        \n",
    "    elif n1%5!=0 and n2%5==0:\n",
    "            print(\"Only second no is divisible by 5\")\n",
    "            \n",
    "    elif n1%5==0 and n2%5!=0:\n",
    "            print(\"Only first no is divisible by 5\")\n",
    "            \n",
    "    else:\n",
    "        print(\"Both no is not divisible by 5\")\n",
    "        \n",
    "        \n",
    "elif n1%2==1 and n2%2 == 0:\n",
    "\n",
    "        \n",
    "    if n1%5==0 and n2%5==0:\n",
    "        print(\"Both no is divisible by 5\")\n",
    "        \n",
    "    elif n1%5!=0 and n2%5==0:\n",
    "            print(\"Only second no is divisible by 5\")\n",
    "            \n",
    "    elif n1%5==0 and n2%5!=0:\n",
    "            print(\"Only first no is divisible by 5\")\n",
    "            \n",
    "    else:\n",
    "        print(\"Both no is not divisible by 5\")"
   ]
  },
  {
   "cell_type": "code",
   "execution_count": 17,
   "id": "3064ee20",
   "metadata": {},
   "outputs": [
    {
     "name": "stdout",
     "output_type": "stream",
     "text": [
      "Input first year = 2000\n",
      "Input second year = 1200\n",
      "2000  year is a leap year\n"
     ]
    }
   ],
   "source": [
    "y1= int(input(\"Input first year = \"))\n",
    "y2= int (input(\"Input second year = \"))\n",
    "\n",
    "if ((y1%400 ==0) or (y1%100!=0 and y1%4 == 0)):\n",
    "\n",
    "    print(y1,\" year is a leap year\")\n",
    "    \n",
    "    if ((y2%400 ==0) or (y2%100!=0 and y2%4 == 0)):\n",
    "\n",
    "        print(y2,\" year is a leap year\")\n",
    "    \n"
   ]
  },
  {
   "cell_type": "code",
   "execution_count": null,
   "id": "dc6f72ee",
   "metadata": {},
   "outputs": [],
   "source": []
  },
  {
   "cell_type": "code",
   "execution_count": null,
   "id": "a26f23fa",
   "metadata": {},
   "outputs": [],
   "source": []
  },
  {
   "cell_type": "code",
   "execution_count": null,
   "id": "4574ae3c",
   "metadata": {},
   "outputs": [],
   "source": []
  },
  {
   "cell_type": "code",
   "execution_count": null,
   "id": "c6c3706b",
   "metadata": {},
   "outputs": [],
   "source": []
  },
  {
   "cell_type": "code",
   "execution_count": null,
   "id": "3c1209be",
   "metadata": {},
   "outputs": [],
   "source": []
  },
  {
   "cell_type": "code",
   "execution_count": null,
   "id": "e1ac7674",
   "metadata": {},
   "outputs": [],
   "source": []
  },
  {
   "cell_type": "code",
   "execution_count": null,
   "id": "d89bd53a",
   "metadata": {},
   "outputs": [],
   "source": []
  },
  {
   "cell_type": "code",
   "execution_count": null,
   "id": "8b1999b4",
   "metadata": {},
   "outputs": [],
   "source": []
  },
  {
   "cell_type": "code",
   "execution_count": null,
   "id": "d83d35a5",
   "metadata": {},
   "outputs": [],
   "source": []
  },
  {
   "cell_type": "code",
   "execution_count": null,
   "id": "f2c6594a",
   "metadata": {},
   "outputs": [],
   "source": []
  },
  {
   "cell_type": "code",
   "execution_count": null,
   "id": "90b07b4b",
   "metadata": {},
   "outputs": [],
   "source": []
  },
  {
   "cell_type": "code",
   "execution_count": null,
   "id": "57c20da7",
   "metadata": {},
   "outputs": [],
   "source": []
  },
  {
   "cell_type": "code",
   "execution_count": null,
   "id": "264c3961",
   "metadata": {},
   "outputs": [],
   "source": []
  },
  {
   "cell_type": "code",
   "execution_count": null,
   "id": "e67ea192",
   "metadata": {},
   "outputs": [],
   "source": []
  }
 ],
 "metadata": {
  "kernelspec": {
   "display_name": "Python 3 (ipykernel)",
   "language": "python",
   "name": "python3"
  },
  "language_info": {
   "codemirror_mode": {
    "name": "ipython",
    "version": 3
   },
   "file_extension": ".py",
   "mimetype": "text/x-python",
   "name": "python",
   "nbconvert_exporter": "python",
   "pygments_lexer": "ipython3",
   "version": "3.11.5"
  }
 },
 "nbformat": 4,
 "nbformat_minor": 5
}
